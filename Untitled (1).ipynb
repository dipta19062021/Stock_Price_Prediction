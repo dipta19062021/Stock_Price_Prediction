{
 "cells": [
  {
   "cell_type": "code",
   "execution_count": null,
   "id": "57b0f1e5",
   "metadata": {
    "id": "57b0f1e5"
   },
   "outputs": [],
   "source": []
  },
  {
   "cell_type": "code",
   "execution_count": null,
   "id": "0hpFaJuvPJDN",
   "metadata": {
    "colab": {
     "base_uri": "https://localhost:8080/"
    },
    "id": "0hpFaJuvPJDN",
    "outputId": "54d2b363-0d3a-4606-cbb2-ea5d1015b548"
   },
   "outputs": [],
   "source": []
  },
  {
   "cell_type": "code",
   "execution_count": 1,
   "id": "25607c53",
   "metadata": {
    "colab": {
     "base_uri": "https://localhost:8080/"
    },
    "id": "25607c53",
    "outputId": "6427476e-a8dd-4d56-eb90-0ce80a266f96"
   },
   "outputs": [
    {
     "name": "stdout",
     "output_type": "stream",
     "text": [
      "Requirement already satisfied: yfinance in c:\\users\\admin\\.conda\\envs\\tf-new\\lib\\site-packages (0.2.40)\n",
      "Requirement already satisfied: pandas>=1.3.0 in c:\\users\\admin\\.conda\\envs\\tf-new\\lib\\site-packages (from yfinance) (2.1.1)\n",
      "Requirement already satisfied: numpy>=1.16.5 in c:\\users\\admin\\.conda\\envs\\tf-new\\lib\\site-packages (from yfinance) (1.26.0)\n",
      "Requirement already satisfied: requests>=2.31 in c:\\users\\admin\\.conda\\envs\\tf-new\\lib\\site-packages (from yfinance) (2.31.0)\n",
      "Requirement already satisfied: multitasking>=0.0.7 in c:\\users\\admin\\.conda\\envs\\tf-new\\lib\\site-packages (from yfinance) (0.0.11)\n",
      "Requirement already satisfied: lxml>=4.9.1 in c:\\users\\admin\\.conda\\envs\\tf-new\\lib\\site-packages (from yfinance) (4.9.3)\n",
      "Requirement already satisfied: platformdirs>=2.0.0 in c:\\users\\admin\\.conda\\envs\\tf-new\\lib\\site-packages (from yfinance) (3.10.0)\n",
      "Requirement already satisfied: pytz>=2022.5 in c:\\users\\admin\\.conda\\envs\\tf-new\\lib\\site-packages (from yfinance) (2023.3.post1)\n",
      "Requirement already satisfied: frozendict>=2.3.4 in c:\\users\\admin\\.conda\\envs\\tf-new\\lib\\site-packages (from yfinance) (2.4.4)\n",
      "Requirement already satisfied: peewee>=3.16.2 in c:\\users\\admin\\.conda\\envs\\tf-new\\lib\\site-packages (from yfinance) (3.17.6)\n",
      "Requirement already satisfied: beautifulsoup4>=4.11.1 in c:\\users\\admin\\.conda\\envs\\tf-new\\lib\\site-packages (from yfinance) (4.12.2)\n",
      "Requirement already satisfied: html5lib>=1.1 in c:\\users\\admin\\.conda\\envs\\tf-new\\lib\\site-packages (from yfinance) (1.1)\n",
      "Requirement already satisfied: soupsieve>1.2 in c:\\users\\admin\\.conda\\envs\\tf-new\\lib\\site-packages (from beautifulsoup4>=4.11.1->yfinance) (2.5)\n",
      "Requirement already satisfied: six>=1.9 in c:\\users\\admin\\.conda\\envs\\tf-new\\lib\\site-packages (from html5lib>=1.1->yfinance) (1.16.0)\n",
      "Requirement already satisfied: webencodings in c:\\users\\admin\\.conda\\envs\\tf-new\\lib\\site-packages (from html5lib>=1.1->yfinance) (0.5.1)\n",
      "Requirement already satisfied: python-dateutil>=2.8.2 in c:\\users\\admin\\.conda\\envs\\tf-new\\lib\\site-packages (from pandas>=1.3.0->yfinance) (2.8.2)\n",
      "Requirement already satisfied: tzdata>=2022.1 in c:\\users\\admin\\.conda\\envs\\tf-new\\lib\\site-packages (from pandas>=1.3.0->yfinance) (2023.3)\n",
      "Requirement already satisfied: charset-normalizer<4,>=2 in c:\\users\\admin\\.conda\\envs\\tf-new\\lib\\site-packages (from requests>=2.31->yfinance) (2.0.4)\n",
      "Requirement already satisfied: idna<4,>=2.5 in c:\\users\\admin\\.conda\\envs\\tf-new\\lib\\site-packages (from requests>=2.31->yfinance) (3.4)\n",
      "Requirement already satisfied: urllib3<3,>=1.21.1 in c:\\users\\admin\\.conda\\envs\\tf-new\\lib\\site-packages (from requests>=2.31->yfinance) (1.26.16)\n",
      "Requirement already satisfied: certifi>=2017.4.17 in c:\\users\\admin\\.conda\\envs\\tf-new\\lib\\site-packages (from requests>=2.31->yfinance) (2023.7.22)\n",
      "Note: you may need to restart the kernel to use updated packages.\n"
     ]
    }
   ],
   "source": [
    "pip install yfinance"
   ]
  },
  {
   "cell_type": "code",
   "execution_count": 75,
   "id": "594647f6",
   "metadata": {
    "id": "594647f6"
   },
   "outputs": [],
   "source": [
    "import numpy as np\n",
    "import pandas as pd\n",
    "import yfinance as yf\n",
    "import matplotlib.pyplot as plt\n",
    "import keras"
   ]
  },
  {
   "cell_type": "code",
   "execution_count": 3,
   "id": "030f8c7c",
   "metadata": {
    "colab": {
     "base_uri": "https://localhost:8080/"
    },
    "id": "030f8c7c",
    "outputId": "4aa0db3e-aa1a-40f3-bc02-e97e3cdf7d65"
   },
   "outputs": [
    {
     "name": "stderr",
     "output_type": "stream",
     "text": [
      "[*********************100%%**********************]  1 of 1 completed\n"
     ]
    }
   ],
   "source": [
    "start='2012-01-01'\n",
    "end='2024-07-07'\n",
    "\n",
    "stock='GOOG'\n",
    "data=yf.download(stock,start,end)\n"
   ]
  },
  {
   "cell_type": "code",
   "execution_count": 4,
   "id": "f0ecd0d1",
   "metadata": {
    "colab": {
     "base_uri": "https://localhost:8080/",
     "height": 237
    },
    "id": "f0ecd0d1",
    "outputId": "950f92a8-7cb3-45a6-875e-cc575fd480d3"
   },
   "outputs": [
    {
     "data": {
      "text/html": [
       "<div>\n",
       "<style scoped>\n",
       "    .dataframe tbody tr th:only-of-type {\n",
       "        vertical-align: middle;\n",
       "    }\n",
       "\n",
       "    .dataframe tbody tr th {\n",
       "        vertical-align: top;\n",
       "    }\n",
       "\n",
       "    .dataframe thead th {\n",
       "        text-align: right;\n",
       "    }\n",
       "</style>\n",
       "<table border=\"1\" class=\"dataframe\">\n",
       "  <thead>\n",
       "    <tr style=\"text-align: right;\">\n",
       "      <th></th>\n",
       "      <th>Open</th>\n",
       "      <th>High</th>\n",
       "      <th>Low</th>\n",
       "      <th>Close</th>\n",
       "      <th>Adj Close</th>\n",
       "      <th>Volume</th>\n",
       "    </tr>\n",
       "    <tr>\n",
       "      <th>Date</th>\n",
       "      <th></th>\n",
       "      <th></th>\n",
       "      <th></th>\n",
       "      <th></th>\n",
       "      <th></th>\n",
       "      <th></th>\n",
       "    </tr>\n",
       "  </thead>\n",
       "  <tbody>\n",
       "    <tr>\n",
       "      <th>2012-01-03</th>\n",
       "      <td>16.262545</td>\n",
       "      <td>16.641375</td>\n",
       "      <td>16.248346</td>\n",
       "      <td>16.573130</td>\n",
       "      <td>16.554291</td>\n",
       "      <td>147611217</td>\n",
       "    </tr>\n",
       "    <tr>\n",
       "      <th>2012-01-04</th>\n",
       "      <td>16.563665</td>\n",
       "      <td>16.693678</td>\n",
       "      <td>16.453827</td>\n",
       "      <td>16.644611</td>\n",
       "      <td>16.625692</td>\n",
       "      <td>114989399</td>\n",
       "    </tr>\n",
       "    <tr>\n",
       "      <th>2012-01-05</th>\n",
       "      <td>16.491436</td>\n",
       "      <td>16.537264</td>\n",
       "      <td>16.344486</td>\n",
       "      <td>16.413727</td>\n",
       "      <td>16.395069</td>\n",
       "      <td>131808205</td>\n",
       "    </tr>\n",
       "    <tr>\n",
       "      <th>2012-01-06</th>\n",
       "      <td>16.417213</td>\n",
       "      <td>16.438385</td>\n",
       "      <td>16.184088</td>\n",
       "      <td>16.189817</td>\n",
       "      <td>16.171415</td>\n",
       "      <td>108119746</td>\n",
       "    </tr>\n",
       "    <tr>\n",
       "      <th>2012-01-09</th>\n",
       "      <td>16.102144</td>\n",
       "      <td>16.114599</td>\n",
       "      <td>15.472754</td>\n",
       "      <td>15.503389</td>\n",
       "      <td>15.485767</td>\n",
       "      <td>233776981</td>\n",
       "    </tr>\n",
       "  </tbody>\n",
       "</table>\n",
       "</div>"
      ],
      "text/plain": [
       "                 Open       High        Low      Close  Adj Close     Volume\n",
       "Date                                                                        \n",
       "2012-01-03  16.262545  16.641375  16.248346  16.573130  16.554291  147611217\n",
       "2012-01-04  16.563665  16.693678  16.453827  16.644611  16.625692  114989399\n",
       "2012-01-05  16.491436  16.537264  16.344486  16.413727  16.395069  131808205\n",
       "2012-01-06  16.417213  16.438385  16.184088  16.189817  16.171415  108119746\n",
       "2012-01-09  16.102144  16.114599  15.472754  15.503389  15.485767  233776981"
      ]
     },
     "execution_count": 4,
     "metadata": {},
     "output_type": "execute_result"
    }
   ],
   "source": [
    "data.head()"
   ]
  },
  {
   "cell_type": "code",
   "execution_count": 5,
   "id": "9e8c9193",
   "metadata": {
    "colab": {
     "base_uri": "https://localhost:8080/",
     "height": 237
    },
    "id": "9e8c9193",
    "outputId": "9cd4c9c8-43f3-472f-b965-1e430cb532dc"
   },
   "outputs": [
    {
     "data": {
      "text/html": [
       "<div>\n",
       "<style scoped>\n",
       "    .dataframe tbody tr th:only-of-type {\n",
       "        vertical-align: middle;\n",
       "    }\n",
       "\n",
       "    .dataframe tbody tr th {\n",
       "        vertical-align: top;\n",
       "    }\n",
       "\n",
       "    .dataframe thead th {\n",
       "        text-align: right;\n",
       "    }\n",
       "</style>\n",
       "<table border=\"1\" class=\"dataframe\">\n",
       "  <thead>\n",
       "    <tr style=\"text-align: right;\">\n",
       "      <th></th>\n",
       "      <th>Open</th>\n",
       "      <th>High</th>\n",
       "      <th>Low</th>\n",
       "      <th>Close</th>\n",
       "      <th>Adj Close</th>\n",
       "      <th>Volume</th>\n",
       "    </tr>\n",
       "    <tr>\n",
       "      <th>Date</th>\n",
       "      <th></th>\n",
       "      <th></th>\n",
       "      <th></th>\n",
       "      <th></th>\n",
       "      <th></th>\n",
       "      <th></th>\n",
       "    </tr>\n",
       "  </thead>\n",
       "  <tbody>\n",
       "    <tr>\n",
       "      <th>2024-06-28</th>\n",
       "      <td>185.720001</td>\n",
       "      <td>186.580002</td>\n",
       "      <td>183.324997</td>\n",
       "      <td>183.419998</td>\n",
       "      <td>183.419998</td>\n",
       "      <td>23032400</td>\n",
       "    </tr>\n",
       "    <tr>\n",
       "      <th>2024-07-01</th>\n",
       "      <td>184.479996</td>\n",
       "      <td>185.339996</td>\n",
       "      <td>182.729996</td>\n",
       "      <td>184.490005</td>\n",
       "      <td>184.490005</td>\n",
       "      <td>11815900</td>\n",
       "    </tr>\n",
       "    <tr>\n",
       "      <th>2024-07-02</th>\n",
       "      <td>183.470001</td>\n",
       "      <td>186.949997</td>\n",
       "      <td>183.059998</td>\n",
       "      <td>186.610001</td>\n",
       "      <td>186.610001</td>\n",
       "      <td>12555500</td>\n",
       "    </tr>\n",
       "    <tr>\n",
       "      <th>2024-07-03</th>\n",
       "      <td>186.300003</td>\n",
       "      <td>187.619995</td>\n",
       "      <td>185.384995</td>\n",
       "      <td>187.389999</td>\n",
       "      <td>187.389999</td>\n",
       "      <td>7409100</td>\n",
       "    </tr>\n",
       "    <tr>\n",
       "      <th>2024-07-05</th>\n",
       "      <td>187.320007</td>\n",
       "      <td>192.259995</td>\n",
       "      <td>187.320007</td>\n",
       "      <td>191.960007</td>\n",
       "      <td>191.960007</td>\n",
       "      <td>14303400</td>\n",
       "    </tr>\n",
       "  </tbody>\n",
       "</table>\n",
       "</div>"
      ],
      "text/plain": [
       "                  Open        High         Low       Close   Adj Close  \\\n",
       "Date                                                                     \n",
       "2024-06-28  185.720001  186.580002  183.324997  183.419998  183.419998   \n",
       "2024-07-01  184.479996  185.339996  182.729996  184.490005  184.490005   \n",
       "2024-07-02  183.470001  186.949997  183.059998  186.610001  186.610001   \n",
       "2024-07-03  186.300003  187.619995  185.384995  187.389999  187.389999   \n",
       "2024-07-05  187.320007  192.259995  187.320007  191.960007  191.960007   \n",
       "\n",
       "              Volume  \n",
       "Date                  \n",
       "2024-06-28  23032400  \n",
       "2024-07-01  11815900  \n",
       "2024-07-02  12555500  \n",
       "2024-07-03   7409100  \n",
       "2024-07-05  14303400  "
      ]
     },
     "execution_count": 5,
     "metadata": {},
     "output_type": "execute_result"
    }
   ],
   "source": [
    "data.tail()"
   ]
  },
  {
   "cell_type": "code",
   "execution_count": 6,
   "id": "0e2165a0",
   "metadata": {
    "id": "0e2165a0"
   },
   "outputs": [],
   "source": [
    "data.reset_index(inplace=True)"
   ]
  },
  {
   "cell_type": "code",
   "execution_count": 7,
   "id": "3b49db36",
   "metadata": {
    "colab": {
     "base_uri": "https://localhost:8080/",
     "height": 423
    },
    "id": "3b49db36",
    "outputId": "d5f56c40-71b6-4a0e-a209-2fdb863ce6b1"
   },
   "outputs": [
    {
     "data": {
      "text/html": [
       "<div>\n",
       "<style scoped>\n",
       "    .dataframe tbody tr th:only-of-type {\n",
       "        vertical-align: middle;\n",
       "    }\n",
       "\n",
       "    .dataframe tbody tr th {\n",
       "        vertical-align: top;\n",
       "    }\n",
       "\n",
       "    .dataframe thead th {\n",
       "        text-align: right;\n",
       "    }\n",
       "</style>\n",
       "<table border=\"1\" class=\"dataframe\">\n",
       "  <thead>\n",
       "    <tr style=\"text-align: right;\">\n",
       "      <th></th>\n",
       "      <th>Date</th>\n",
       "      <th>Open</th>\n",
       "      <th>High</th>\n",
       "      <th>Low</th>\n",
       "      <th>Close</th>\n",
       "      <th>Adj Close</th>\n",
       "      <th>Volume</th>\n",
       "    </tr>\n",
       "  </thead>\n",
       "  <tbody>\n",
       "    <tr>\n",
       "      <th>0</th>\n",
       "      <td>2012-01-03</td>\n",
       "      <td>16.262545</td>\n",
       "      <td>16.641375</td>\n",
       "      <td>16.248346</td>\n",
       "      <td>16.573130</td>\n",
       "      <td>16.554291</td>\n",
       "      <td>147611217</td>\n",
       "    </tr>\n",
       "    <tr>\n",
       "      <th>1</th>\n",
       "      <td>2012-01-04</td>\n",
       "      <td>16.563665</td>\n",
       "      <td>16.693678</td>\n",
       "      <td>16.453827</td>\n",
       "      <td>16.644611</td>\n",
       "      <td>16.625692</td>\n",
       "      <td>114989399</td>\n",
       "    </tr>\n",
       "    <tr>\n",
       "      <th>2</th>\n",
       "      <td>2012-01-05</td>\n",
       "      <td>16.491436</td>\n",
       "      <td>16.537264</td>\n",
       "      <td>16.344486</td>\n",
       "      <td>16.413727</td>\n",
       "      <td>16.395069</td>\n",
       "      <td>131808205</td>\n",
       "    </tr>\n",
       "    <tr>\n",
       "      <th>3</th>\n",
       "      <td>2012-01-06</td>\n",
       "      <td>16.417213</td>\n",
       "      <td>16.438385</td>\n",
       "      <td>16.184088</td>\n",
       "      <td>16.189817</td>\n",
       "      <td>16.171415</td>\n",
       "      <td>108119746</td>\n",
       "    </tr>\n",
       "    <tr>\n",
       "      <th>4</th>\n",
       "      <td>2012-01-09</td>\n",
       "      <td>16.102144</td>\n",
       "      <td>16.114599</td>\n",
       "      <td>15.472754</td>\n",
       "      <td>15.503389</td>\n",
       "      <td>15.485767</td>\n",
       "      <td>233776981</td>\n",
       "    </tr>\n",
       "    <tr>\n",
       "      <th>...</th>\n",
       "      <td>...</td>\n",
       "      <td>...</td>\n",
       "      <td>...</td>\n",
       "      <td>...</td>\n",
       "      <td>...</td>\n",
       "      <td>...</td>\n",
       "      <td>...</td>\n",
       "    </tr>\n",
       "    <tr>\n",
       "      <th>3141</th>\n",
       "      <td>2024-06-28</td>\n",
       "      <td>185.720001</td>\n",
       "      <td>186.580002</td>\n",
       "      <td>183.324997</td>\n",
       "      <td>183.419998</td>\n",
       "      <td>183.419998</td>\n",
       "      <td>23032400</td>\n",
       "    </tr>\n",
       "    <tr>\n",
       "      <th>3142</th>\n",
       "      <td>2024-07-01</td>\n",
       "      <td>184.479996</td>\n",
       "      <td>185.339996</td>\n",
       "      <td>182.729996</td>\n",
       "      <td>184.490005</td>\n",
       "      <td>184.490005</td>\n",
       "      <td>11815900</td>\n",
       "    </tr>\n",
       "    <tr>\n",
       "      <th>3143</th>\n",
       "      <td>2024-07-02</td>\n",
       "      <td>183.470001</td>\n",
       "      <td>186.949997</td>\n",
       "      <td>183.059998</td>\n",
       "      <td>186.610001</td>\n",
       "      <td>186.610001</td>\n",
       "      <td>12555500</td>\n",
       "    </tr>\n",
       "    <tr>\n",
       "      <th>3144</th>\n",
       "      <td>2024-07-03</td>\n",
       "      <td>186.300003</td>\n",
       "      <td>187.619995</td>\n",
       "      <td>185.384995</td>\n",
       "      <td>187.389999</td>\n",
       "      <td>187.389999</td>\n",
       "      <td>7409100</td>\n",
       "    </tr>\n",
       "    <tr>\n",
       "      <th>3145</th>\n",
       "      <td>2024-07-05</td>\n",
       "      <td>187.320007</td>\n",
       "      <td>192.259995</td>\n",
       "      <td>187.320007</td>\n",
       "      <td>191.960007</td>\n",
       "      <td>191.960007</td>\n",
       "      <td>14303400</td>\n",
       "    </tr>\n",
       "  </tbody>\n",
       "</table>\n",
       "<p>3146 rows × 7 columns</p>\n",
       "</div>"
      ],
      "text/plain": [
       "           Date        Open        High         Low       Close   Adj Close  \\\n",
       "0    2012-01-03   16.262545   16.641375   16.248346   16.573130   16.554291   \n",
       "1    2012-01-04   16.563665   16.693678   16.453827   16.644611   16.625692   \n",
       "2    2012-01-05   16.491436   16.537264   16.344486   16.413727   16.395069   \n",
       "3    2012-01-06   16.417213   16.438385   16.184088   16.189817   16.171415   \n",
       "4    2012-01-09   16.102144   16.114599   15.472754   15.503389   15.485767   \n",
       "...         ...         ...         ...         ...         ...         ...   \n",
       "3141 2024-06-28  185.720001  186.580002  183.324997  183.419998  183.419998   \n",
       "3142 2024-07-01  184.479996  185.339996  182.729996  184.490005  184.490005   \n",
       "3143 2024-07-02  183.470001  186.949997  183.059998  186.610001  186.610001   \n",
       "3144 2024-07-03  186.300003  187.619995  185.384995  187.389999  187.389999   \n",
       "3145 2024-07-05  187.320007  192.259995  187.320007  191.960007  191.960007   \n",
       "\n",
       "         Volume  \n",
       "0     147611217  \n",
       "1     114989399  \n",
       "2     131808205  \n",
       "3     108119746  \n",
       "4     233776981  \n",
       "...         ...  \n",
       "3141   23032400  \n",
       "3142   11815900  \n",
       "3143   12555500  \n",
       "3144    7409100  \n",
       "3145   14303400  \n",
       "\n",
       "[3146 rows x 7 columns]"
      ]
     },
     "execution_count": 7,
     "metadata": {},
     "output_type": "execute_result"
    }
   ],
   "source": [
    "data\n"
   ]
  },
  {
   "cell_type": "code",
   "execution_count": 8,
   "id": "616129b2",
   "metadata": {
    "id": "616129b2"
   },
   "outputs": [],
   "source": [
    "#creat a moving average of 100 days\n",
    "\n",
    "last_100_days=data.Close.rolling(100).mean()"
   ]
  },
  {
   "cell_type": "code",
   "execution_count": 9,
   "id": "c84f73d8",
   "metadata": {
    "colab": {
     "base_uri": "https://localhost:8080/"
    },
    "id": "c84f73d8",
    "outputId": "2b9def89-5c2c-457f-cd19-d9434f19756d"
   },
   "outputs": [
    {
     "data": {
      "text/plain": [
       "0            NaN\n",
       "1            NaN\n",
       "2            NaN\n",
       "3            NaN\n",
       "4            NaN\n",
       "          ...   \n",
       "3141    160.3614\n",
       "3142    160.7522\n",
       "3143    161.1515\n",
       "3144    161.5532\n",
       "3145    161.9706\n",
       "Name: Close, Length: 3146, dtype: float64"
      ]
     },
     "execution_count": 9,
     "metadata": {},
     "output_type": "execute_result"
    }
   ],
   "source": [
    "last_100_days"
   ]
  },
  {
   "cell_type": "code",
   "execution_count": 10,
   "id": "d318d31e",
   "metadata": {
    "colab": {
     "base_uri": "https://localhost:8080/",
     "height": 679
    },
    "id": "d318d31e",
    "outputId": "dc467516-f4c6-41a0-d4d9-be9895c74758"
   },
   "outputs": [
    {
     "data": {
      "image/png": "[encoded data removed]",
      "text/plain": [
       "<Figure size 1000x800 with 1 Axes>"
      ]
     },
     "metadata": {},
     "output_type": "display_data"
    }
   ],
   "source": [
    "plt.figure(figsize=(10,8))\n",
    "plt.plot(last_100_days,'r')\n",
    "plt.plot(data.Close,'b')\n",
    "plt.show()"
   ]
  },
  {
   "cell_type": "code",
   "execution_count": 11,
   "id": "b064a13a",
   "metadata": {
    "id": "b064a13a"
   },
   "outputs": [],
   "source": [
    "#creat a moving average of 100 days\n",
    "\n",
    "last_200_days=data.Close.rolling(200).mean()"
   ]
  },
  {
   "cell_type": "code",
   "execution_count": 12,
   "id": "e088e02a",
   "metadata": {
    "colab": {
     "base_uri": "https://localhost:8080/",
     "height": 679
    },
    "id": "e088e02a",
    "outputId": "83483c9d-5c6c-493c-c4bb-ccc3a24df741"
   },
   "outputs": [
    {
     "data": {
      "image/png": "[encoded data removed]",
      "text/plain": [
       "<Figure size 1000x800 with 1 Axes>"
      ]
     },
     "metadata": {},
     "output_type": "display_data"
    }
   ],
   "source": [
    "plt.figure(figsize=(10,8))\n",
    "plt.plot(last_200_days,'r')\n",
    "plt.plot(last_100_days,'y')\n",
    "plt.plot(data.Close,'b')\n",
    "plt.show()"
   ]
  },
  {
   "cell_type": "code",
   "execution_count": 13,
   "id": "46c95ade",
   "metadata": {
    "id": "46c95ade"
   },
   "outputs": [],
   "source": [
    "#creat a moving average of 100 days\n",
    "\n",
    "last_300_days=data.Close.rolling(300).mean()"
   ]
  },
  {
   "cell_type": "code",
   "execution_count": 14,
   "id": "cd7172f6",
   "metadata": {
    "colab": {
     "base_uri": "https://localhost:8080/",
     "height": 679
    },
    "id": "cd7172f6",
    "outputId": "4f5289dc-0109-4d53-da86-9d01287c0942"
   },
   "outputs": [
    {
     "data": {
      "image/png": "[encoded data removed]",
      "text/plain": [
       "<Figure size 1000x800 with 1 Axes>"
      ]
     },
     "metadata": {},
     "output_type": "display_data"
    }
   ],
   "source": [
    "plt.figure(figsize=(10,8))\n",
    "plt.plot(last_300_days,'r')\n",
    "plt.plot(data.Close,'b')\n",
    "plt.show()"
   ]
  },
  {
   "cell_type": "code",
   "execution_count": 15,
   "id": "0e359be7",
   "metadata": {
    "id": "0e359be7"
   },
   "outputs": [],
   "source": [
    "data.dropna(inplace=True)"
   ]
  },
  {
   "cell_type": "code",
   "execution_count": 16,
   "id": "94caa00d",
   "metadata": {
    "id": "94caa00d"
   },
   "outputs": [],
   "source": [
    "data_train=pd.DataFrame(data.Close[0:int(len(data)*0.80)])\n",
    "data_test=pd.DataFrame(data.Close[int(len(data)*0.80):len(data)])"
   ]
  },
  {
   "cell_type": "code",
   "execution_count": 17,
   "id": "2b179f4d",
   "metadata": {},
   "outputs": [
    {
     "data": {
      "text/html": [
       "<div>\n",
       "<style scoped>\n",
       "    .dataframe tbody tr th:only-of-type {\n",
       "        vertical-align: middle;\n",
       "    }\n",
       "\n",
       "    .dataframe tbody tr th {\n",
       "        vertical-align: top;\n",
       "    }\n",
       "\n",
       "    .dataframe thead th {\n",
       "        text-align: right;\n",
       "    }\n",
       "</style>\n",
       "<table border=\"1\" class=\"dataframe\">\n",
       "  <thead>\n",
       "    <tr style=\"text-align: right;\">\n",
       "      <th></th>\n",
       "      <th>Close</th>\n",
       "    </tr>\n",
       "  </thead>\n",
       "  <tbody>\n",
       "    <tr>\n",
       "      <th>0</th>\n",
       "      <td>16.573130</td>\n",
       "    </tr>\n",
       "    <tr>\n",
       "      <th>1</th>\n",
       "      <td>16.644611</td>\n",
       "    </tr>\n",
       "    <tr>\n",
       "      <th>2</th>\n",
       "      <td>16.413727</td>\n",
       "    </tr>\n",
       "    <tr>\n",
       "      <th>3</th>\n",
       "      <td>16.189817</td>\n",
       "    </tr>\n",
       "    <tr>\n",
       "      <th>4</th>\n",
       "      <td>15.503389</td>\n",
       "    </tr>\n",
       "    <tr>\n",
       "      <th>...</th>\n",
       "      <td>...</td>\n",
       "    </tr>\n",
       "    <tr>\n",
       "      <th>2511</th>\n",
       "      <td>147.142502</td>\n",
       "    </tr>\n",
       "    <tr>\n",
       "      <th>2512</th>\n",
       "      <td>148.063995</td>\n",
       "    </tr>\n",
       "    <tr>\n",
       "      <th>2513</th>\n",
       "      <td>146.447998</td>\n",
       "    </tr>\n",
       "    <tr>\n",
       "      <th>2514</th>\n",
       "      <td>146.504501</td>\n",
       "    </tr>\n",
       "    <tr>\n",
       "      <th>2515</th>\n",
       "      <td>146.002502</td>\n",
       "    </tr>\n",
       "  </tbody>\n",
       "</table>\n",
       "<p>2516 rows × 1 columns</p>\n",
       "</div>"
      ],
      "text/plain": [
       "           Close\n",
       "0      16.573130\n",
       "1      16.644611\n",
       "2      16.413727\n",
       "3      16.189817\n",
       "4      15.503389\n",
       "...          ...\n",
       "2511  147.142502\n",
       "2512  148.063995\n",
       "2513  146.447998\n",
       "2514  146.504501\n",
       "2515  146.002502\n",
       "\n",
       "[2516 rows x 1 columns]"
      ]
     },
     "execution_count": 17,
     "metadata": {},
     "output_type": "execute_result"
    }
   ],
   "source": [
    "data_train"
   ]
  },
  {
   "cell_type": "code",
   "execution_count": 18,
   "id": "20b49e3f",
   "metadata": {
    "colab": {
     "base_uri": "https://localhost:8080/"
    },
    "id": "20b49e3f",
    "outputId": "d9007c04-67d9-4f4c-edc3-b5ed540b2e39"
   },
   "outputs": [
    {
     "data": {
      "text/plain": [
       "2516"
      ]
     },
     "execution_count": 18,
     "metadata": {},
     "output_type": "execute_result"
    }
   ],
   "source": [
    "data_train.shape[0]"
   ]
  },
  {
   "cell_type": "code",
   "execution_count": 19,
   "id": "e92cbc63",
   "metadata": {
    "colab": {
     "base_uri": "https://localhost:8080/"
    },
    "id": "e92cbc63",
    "outputId": "eea520bb-8cf9-4132-9b06-1ced367acc59"
   },
   "outputs": [
    {
     "data": {
      "text/plain": [
       "630"
      ]
     },
     "execution_count": 19,
     "metadata": {},
     "output_type": "execute_result"
    }
   ],
   "source": [
    "data_test.shape[0]"
   ]
  },
  {
   "cell_type": "code",
   "execution_count": 20,
   "id": "78c02b44",
   "metadata": {
    "id": "78c02b44"
   },
   "outputs": [],
   "source": [
    "from sklearn.preprocessing import MinMaxScaler\n",
    "Scaler=MinMaxScaler(feature_range=(0,1))\n"
   ]
  },
  {
   "cell_type": "code",
   "execution_count": 21,
   "id": "4422f0ac",
   "metadata": {
    "id": "4422f0ac"
   },
   "outputs": [],
   "source": [
    "data_tr_sc=Scaler.fit_transform(data_train)"
   ]
  },
  {
   "cell_type": "code",
   "execution_count": 22,
   "id": "0a0964ef",
   "metadata": {
    "id": "0a0964ef"
   },
   "outputs": [],
   "source": [
    "x=[]\n",
    "y=[]\n",
    "for i in range(100, data_tr_sc.shape[0]):\n",
    "    x.append(data_tr_sc[i-100:i])\n",
    "    y.append(data_tr_sc[i,0])"
   ]
  },
  {
   "cell_type": "code",
   "execution_count": 23,
   "id": "4ce45820",
   "metadata": {
    "id": "4ce45820"
   },
   "outputs": [],
   "source": [
    "x=np.array(x)\n",
    "y=np.array(y)"
   ]
  },
  {
   "cell_type": "code",
   "execution_count": 24,
   "id": "326e9632",
   "metadata": {
    "colab": {
     "base_uri": "https://localhost:8080/"
    },
    "id": "326e9632",
    "outputId": "653cbdea-fd06-42e9-e11f-5450e1b9ad8c"
   },
   "outputs": [
    {
     "name": "stdout",
     "output_type": "stream",
     "text": [
      "Requirement already satisfied: keras in c:\\users\\admin\\.conda\\envs\\tf-new\\lib\\site-packages (2.14.0)\n",
      "Note: you may need to restart the kernel to use updated packages.\n"
     ]
    }
   ],
   "source": [
    "pip install keras"
   ]
  },
  {
   "cell_type": "code",
   "execution_count": 25,
   "id": "f6afe492",
   "metadata": {
    "id": "f6afe492"
   },
   "outputs": [],
   "source": [
    "import tensorflow as tf"
   ]
  },
  {
   "cell_type": "code",
   "execution_count": 26,
   "id": "a374e756",
   "metadata": {
    "id": "a374e756"
   },
   "outputs": [],
   "source": [
    "from keras.layers import Dense,Dropout,LSTM\n",
    "from keras.models import Sequential"
   ]
  },
  {
   "cell_type": "code",
   "execution_count": 27,
   "id": "f79ec112",
   "metadata": {
    "colab": {
     "base_uri": "https://localhost:8080/"
    },
    "id": "f79ec112",
    "outputId": "bf393a3a-9930-4511-df85-bdd6e6629461"
   },
   "outputs": [],
   "source": [
    "model=Sequential()\n",
    "model.add(LSTM(units=50, activation='relu', return_sequences=True, input_shape=((x.shape[1],1))))\n",
    "model.add(Dropout(0.2))\n",
    "model.add(LSTM(units=60, activation='relu', return_sequences=True))\n",
    "model.add(Dropout(0.3))\n",
    "model.add(LSTM(units=80, activation='relu', return_sequences=True))\n",
    "model.add(Dropout(0.4))\n",
    "model.add(LSTM(units=120, activation='relu'))\n",
    "model.add(Dropout(0.5))\n",
    "\n",
    "model.add(Dense(units=1))"
   ]
  },
  {
   "cell_type": "code",
   "execution_count": 28,
   "id": "cf48cfed",
   "metadata": {
    "id": "cf48cfed"
   },
   "outputs": [],
   "source": [
    "model.compile(optimizer='adam', loss='mean_squared_error')"
   ]
  },
  {
   "cell_type": "code",
   "execution_count": 29,
   "id": "cb5df9ed",
   "metadata": {
    "colab": {
     "base_uri": "https://localhost:8080/"
    },
    "id": "cb5df9ed",
    "outputId": "21712568-d43c-4c4f-99c6-bebd2722dfe9"
   },
   "outputs": [
    {
     "name": "stdout",
     "output_type": "stream",
     "text": [
      "Model: \"sequential\"\n",
      "_________________________________________________________________\n",
      " Layer (type)                Output Shape              Param #   \n",
      "=================================================================\n",
      " lstm (LSTM)                 (None, 100, 50)           10400     \n",
      "                                                                 \n",
      " dropout (Dropout)           (None, 100, 50)           0         \n",
      "                                                                 \n",
      " lstm_1 (LSTM)               (None, 100, 60)           26640     \n",
      "                                                                 \n",
      " dropout_1 (Dropout)         (None, 100, 60)           0         \n",
      "                                                                 \n",
      " lstm_2 (LSTM)               (None, 100, 80)           45120     \n",
      "                                                                 \n",
      " dropout_2 (Dropout)         (None, 100, 80)           0         \n",
      "                                                                 \n",
      " lstm_3 (LSTM)               (None, 120)               96480     \n",
      "                                                                 \n",
      " dropout_3 (Dropout)         (None, 120)               0         \n",
      "                                                                 \n",
      " dense (Dense)               (None, 1)                 121       \n",
      "                                                                 \n",
      "=================================================================\n",
      "Total params: 178761 (698.29 KB)\n",
      "Trainable params: 178761 (698.29 KB)\n",
      "Non-trainable params: 0 (0.00 Byte)\n",
      "_________________________________________________________________\n"
     ]
    }
   ],
   "source": [
    "model.summary()"
   ]
  },
  {
   "cell_type": "code",
   "execution_count": 30,
   "id": "5810e4e1",
   "metadata": {
    "colab": {
     "base_uri": "https://localhost:8080/"
    },
    "id": "5810e4e1",
    "outputId": "db4525f4-fd86-4d76-8b3a-354e7d23442a"
   },
   "outputs": [
    {
     "name": "stdout",
     "output_type": "stream",
     "text": [
      "Epoch 1/50\n",
      "76/76 [==============================] - 25s 258ms/step - loss: 0.0216\n",
      "Epoch 2/50\n",
      "76/76 [==============================] - 17s 230ms/step - loss: 0.0046\n",
      "Epoch 3/50\n",
      "76/76 [==============================] - 21s 273ms/step - loss: 0.0035\n",
      "Epoch 4/50\n",
      "76/76 [==============================] - 23s 303ms/step - loss: 0.0035\n",
      "Epoch 5/50\n",
      "76/76 [==============================] - 22s 292ms/step - loss: 0.0037\n",
      "Epoch 6/50\n",
      "76/76 [==============================] - 21s 278ms/step - loss: 0.0036\n",
      "Epoch 7/50\n",
      "76/76 [==============================] - 19s 247ms/step - loss: 0.0031\n",
      "Epoch 8/50\n",
      "76/76 [==============================] - 17s 226ms/step - loss: 0.0029\n",
      "Epoch 9/50\n",
      "76/76 [==============================] - 16s 211ms/step - loss: 0.0030\n",
      "Epoch 10/50\n",
      "76/76 [==============================] - 16s 210ms/step - loss: 0.0027\n",
      "Epoch 11/50\n",
      "76/76 [==============================] - 16s 212ms/step - loss: 0.0029\n",
      "Epoch 12/50\n",
      "76/76 [==============================] - 17s 225ms/step - loss: 0.0028\n",
      "Epoch 13/50\n",
      "76/76 [==============================] - 18s 235ms/step - loss: 0.0028\n",
      "Epoch 14/50\n",
      "76/76 [==============================] - 17s 228ms/step - loss: 0.0027\n",
      "Epoch 15/50\n",
      "76/76 [==============================] - 17s 219ms/step - loss: 0.0023\n",
      "Epoch 16/50\n",
      "76/76 [==============================] - 17s 224ms/step - loss: 0.0023\n",
      "Epoch 17/50\n",
      "76/76 [==============================] - 17s 220ms/step - loss: 0.0025\n",
      "Epoch 18/50\n",
      "76/76 [==============================] - 18s 234ms/step - loss: 0.0021\n",
      "Epoch 19/50\n",
      "76/76 [==============================] - 18s 231ms/step - loss: 0.0021\n",
      "Epoch 20/50\n",
      "76/76 [==============================] - 16s 215ms/step - loss: 0.0021\n",
      "Epoch 21/50\n",
      "76/76 [==============================] - 18s 231ms/step - loss: 0.0022\n",
      "Epoch 22/50\n",
      "76/76 [==============================] - 17s 219ms/step - loss: 0.0022\n",
      "Epoch 23/50\n",
      "76/76 [==============================] - 16s 214ms/step - loss: 0.0019\n",
      "Epoch 24/50\n",
      "76/76 [==============================] - 16s 216ms/step - loss: 0.0022\n",
      "Epoch 25/50\n",
      "76/76 [==============================] - 16s 215ms/step - loss: 0.0021\n",
      "Epoch 26/50\n",
      "76/76 [==============================] - 16s 216ms/step - loss: 0.0021\n",
      "Epoch 27/50\n",
      "76/76 [==============================] - 19s 249ms/step - loss: 0.0022\n",
      "Epoch 28/50\n",
      "76/76 [==============================] - 21s 274ms/step - loss: 0.0018\n",
      "Epoch 29/50\n",
      "76/76 [==============================] - 17s 218ms/step - loss: 0.0018\n",
      "Epoch 30/50\n",
      "76/76 [==============================] - 17s 224ms/step - loss: 0.0018\n",
      "Epoch 31/50\n",
      "76/76 [==============================] - 18s 239ms/step - loss: 0.0018\n",
      "Epoch 32/50\n",
      "76/76 [==============================] - 18s 242ms/step - loss: 0.0020\n",
      "Epoch 33/50\n",
      "76/76 [==============================] - 19s 245ms/step - loss: 0.0022\n",
      "Epoch 34/50\n",
      "76/76 [==============================] - 19s 251ms/step - loss: 0.0017\n",
      "Epoch 35/50\n",
      "76/76 [==============================] - 18s 243ms/step - loss: 0.0018\n",
      "Epoch 36/50\n",
      "76/76 [==============================] - 17s 228ms/step - loss: 0.0019\n",
      "Epoch 37/50\n",
      "76/76 [==============================] - 18s 236ms/step - loss: 0.0021\n",
      "Epoch 38/50\n",
      "76/76 [==============================] - 20s 257ms/step - loss: 0.0018\n",
      "Epoch 39/50\n",
      "76/76 [==============================] - 21s 270ms/step - loss: 0.0017\n",
      "Epoch 40/50\n",
      "76/76 [==============================] - 19s 253ms/step - loss: 0.0020\n",
      "Epoch 41/50\n",
      "76/76 [==============================] - 19s 251ms/step - loss: 0.0016\n",
      "Epoch 42/50\n",
      "76/76 [==============================] - 24s 311ms/step - loss: 0.0019\n",
      "Epoch 43/50\n",
      "76/76 [==============================] - 22s 295ms/step - loss: 0.0017\n",
      "Epoch 44/50\n",
      "76/76 [==============================] - 19s 244ms/step - loss: 0.0017\n",
      "Epoch 45/50\n",
      "76/76 [==============================] - 17s 225ms/step - loss: 0.0017\n",
      "Epoch 46/50\n",
      "76/76 [==============================] - 17s 223ms/step - loss: 0.0019\n",
      "Epoch 47/50\n",
      "76/76 [==============================] - 18s 233ms/step - loss: 0.0017\n",
      "Epoch 48/50\n",
      "76/76 [==============================] - 18s 233ms/step - loss: 0.0017\n",
      "Epoch 49/50\n",
      "76/76 [==============================] - 17s 223ms/step - loss: 0.0016\n",
      "Epoch 50/50\n",
      "76/76 [==============================] - 16s 215ms/step - loss: 0.0019\n"
     ]
    },
    {
     "data": {
      "text/plain": [
       "<keras.src.callbacks.History at 0x24f9be186d0>"
      ]
     },
     "execution_count": 30,
     "metadata": {},
     "output_type": "execute_result"
    }
   ],
   "source": [
    "model.fit(x,y,epochs=50, batch_size=32, verbose=1)"
   ]
  },
  {
   "cell_type": "code",
   "execution_count": 31,
   "id": "e3d9495d",
   "metadata": {
    "id": "e3d9495d"
   },
   "outputs": [],
   "source": [
    "pas_100_day=data_train.tail(100)"
   ]
  },
  {
   "cell_type": "code",
   "execution_count": 32,
   "id": "71865159",
   "metadata": {},
   "outputs": [
    {
     "data": {
      "text/html": [
       "<div>\n",
       "<style scoped>\n",
       "    .dataframe tbody tr th:only-of-type {\n",
       "        vertical-align: middle;\n",
       "    }\n",
       "\n",
       "    .dataframe tbody tr th {\n",
       "        vertical-align: top;\n",
       "    }\n",
       "\n",
       "    .dataframe thead th {\n",
       "        text-align: right;\n",
       "    }\n",
       "</style>\n",
       "<table border=\"1\" class=\"dataframe\">\n",
       "  <thead>\n",
       "    <tr style=\"text-align: right;\">\n",
       "      <th></th>\n",
       "      <th>Close</th>\n",
       "    </tr>\n",
       "  </thead>\n",
       "  <tbody>\n",
       "    <tr>\n",
       "      <th>2416</th>\n",
       "      <td>138.096497</td>\n",
       "    </tr>\n",
       "    <tr>\n",
       "      <th>2417</th>\n",
       "      <td>137.689499</td>\n",
       "    </tr>\n",
       "    <tr>\n",
       "      <th>2418</th>\n",
       "      <td>138.389496</td>\n",
       "    </tr>\n",
       "    <tr>\n",
       "      <th>2419</th>\n",
       "      <td>138.406006</td>\n",
       "    </tr>\n",
       "    <tr>\n",
       "      <th>2420</th>\n",
       "      <td>138.916000</td>\n",
       "    </tr>\n",
       "    <tr>\n",
       "      <th>...</th>\n",
       "      <td>...</td>\n",
       "    </tr>\n",
       "    <tr>\n",
       "      <th>2511</th>\n",
       "      <td>147.142502</td>\n",
       "    </tr>\n",
       "    <tr>\n",
       "      <th>2512</th>\n",
       "      <td>148.063995</td>\n",
       "    </tr>\n",
       "    <tr>\n",
       "      <th>2513</th>\n",
       "      <td>146.447998</td>\n",
       "    </tr>\n",
       "    <tr>\n",
       "      <th>2514</th>\n",
       "      <td>146.504501</td>\n",
       "    </tr>\n",
       "    <tr>\n",
       "      <th>2515</th>\n",
       "      <td>146.002502</td>\n",
       "    </tr>\n",
       "  </tbody>\n",
       "</table>\n",
       "<p>100 rows × 1 columns</p>\n",
       "</div>"
      ],
      "text/plain": [
       "           Close\n",
       "2416  138.096497\n",
       "2417  137.689499\n",
       "2418  138.389496\n",
       "2419  138.406006\n",
       "2420  138.916000\n",
       "...          ...\n",
       "2511  147.142502\n",
       "2512  148.063995\n",
       "2513  146.447998\n",
       "2514  146.504501\n",
       "2515  146.002502\n",
       "\n",
       "[100 rows x 1 columns]"
      ]
     },
     "execution_count": 32,
     "metadata": {},
     "output_type": "execute_result"
    }
   ],
   "source": [
    "pas_100_day"
   ]
  },
  {
   "cell_type": "code",
   "execution_count": 33,
   "id": "QzBXJoTCfkp6",
   "metadata": {
    "id": "QzBXJoTCfkp6"
   },
   "outputs": [],
   "source": [
    "data_test=pd.concat([pas_100_day, data_test], ignore_index=True)"
   ]
  },
  {
   "cell_type": "code",
   "execution_count": 34,
   "id": "GZo_ZK_rgJ9C",
   "metadata": {
    "colab": {
     "base_uri": "https://localhost:8080/",
     "height": 423
    },
    "id": "GZo_ZK_rgJ9C",
    "outputId": "cfbf6266-3f50-42d8-a7e8-550a6c2038f2"
   },
   "outputs": [
    {
     "data": {
      "text/html": [
       "<div>\n",
       "<style scoped>\n",
       "    .dataframe tbody tr th:only-of-type {\n",
       "        vertical-align: middle;\n",
       "    }\n",
       "\n",
       "    .dataframe tbody tr th {\n",
       "        vertical-align: top;\n",
       "    }\n",
       "\n",
       "    .dataframe thead th {\n",
       "        text-align: right;\n",
       "    }\n",
       "</style>\n",
       "<table border=\"1\" class=\"dataframe\">\n",
       "  <thead>\n",
       "    <tr style=\"text-align: right;\">\n",
       "      <th></th>\n",
       "      <th>Close</th>\n",
       "    </tr>\n",
       "  </thead>\n",
       "  <tbody>\n",
       "    <tr>\n",
       "      <th>0</th>\n",
       "      <td>138.096497</td>\n",
       "    </tr>\n",
       "    <tr>\n",
       "      <th>1</th>\n",
       "      <td>137.689499</td>\n",
       "    </tr>\n",
       "    <tr>\n",
       "      <th>2</th>\n",
       "      <td>138.389496</td>\n",
       "    </tr>\n",
       "    <tr>\n",
       "      <th>3</th>\n",
       "      <td>138.406006</td>\n",
       "    </tr>\n",
       "    <tr>\n",
       "      <th>4</th>\n",
       "      <td>138.916000</td>\n",
       "    </tr>\n",
       "    <tr>\n",
       "      <th>...</th>\n",
       "      <td>...</td>\n",
       "    </tr>\n",
       "    <tr>\n",
       "      <th>725</th>\n",
       "      <td>183.419998</td>\n",
       "    </tr>\n",
       "    <tr>\n",
       "      <th>726</th>\n",
       "      <td>184.490005</td>\n",
       "    </tr>\n",
       "    <tr>\n",
       "      <th>727</th>\n",
       "      <td>186.610001</td>\n",
       "    </tr>\n",
       "    <tr>\n",
       "      <th>728</th>\n",
       "      <td>187.389999</td>\n",
       "    </tr>\n",
       "    <tr>\n",
       "      <th>729</th>\n",
       "      <td>191.960007</td>\n",
       "    </tr>\n",
       "  </tbody>\n",
       "</table>\n",
       "<p>730 rows × 1 columns</p>\n",
       "</div>"
      ],
      "text/plain": [
       "          Close\n",
       "0    138.096497\n",
       "1    137.689499\n",
       "2    138.389496\n",
       "3    138.406006\n",
       "4    138.916000\n",
       "..          ...\n",
       "725  183.419998\n",
       "726  184.490005\n",
       "727  186.610001\n",
       "728  187.389999\n",
       "729  191.960007\n",
       "\n",
       "[730 rows x 1 columns]"
      ]
     },
     "execution_count": 34,
     "metadata": {},
     "output_type": "execute_result"
    }
   ],
   "source": [
    "data_test"
   ]
  },
  {
   "cell_type": "code",
   "execution_count": 44,
   "id": "Hu8juwV0B1T6",
   "metadata": {
    "id": "Hu8juwV0B1T6"
   },
   "outputs": [],
   "source": [
    "data_tes_sc=Scaler.fit_transform(data_test)"
   ]
  },
  {
   "cell_type": "code",
   "execution_count": 45,
   "id": "jM3ZsGWBB_Z0",
   "metadata": {
    "id": "jM3ZsGWBB_Z0"
   },
   "outputs": [],
   "source": [
    "x=[]\n",
    "y=[]\n",
    "for i in range(100, data_tes_sc.shape[0]):\n",
    "    x.append(data_tes_sc[i-100:i])\n",
    "    y.append(data_tes_sc[i,0])\n",
    "\n",
    "x=np.array(x)\n",
    "y=np.array(y)"
   ]
  },
  {
   "cell_type": "code",
   "execution_count": 46,
   "id": "jVoCfM6FCwsl",
   "metadata": {
    "colab": {
     "base_uri": "https://localhost:8080/"
    },
    "id": "jVoCfM6FCwsl",
    "outputId": "7cbfd032-0d39-40b7-8eef-62c1eed2d549"
   },
   "outputs": [
    {
     "name": "stdout",
     "output_type": "stream",
     "text": [
      "20/20 [==============================] - 1s 45ms/step\n"
     ]
    }
   ],
   "source": [
    "y_pred=model.predict(x)"
   ]
  },
  {
   "cell_type": "code",
   "execution_count": 47,
   "id": "x6_WrlAkCzuP",
   "metadata": {
    "colab": {
     "base_uri": "https://localhost:8080/"
    },
    "id": "x6_WrlAkCzuP",
    "outputId": "07340ba7-88c5-403b-e798-2d3d063d1bd7"
   },
   "outputs": [
    {
     "data": {
      "text/plain": [
       "array([0.00921914])"
      ]
     },
     "execution_count": 47,
     "metadata": {},
     "output_type": "execute_result"
    }
   ],
   "source": [
    "Scaler.scale_"
   ]
  },
  {
   "cell_type": "code",
   "execution_count": 48,
   "id": "ouYEVS_pDw0u",
   "metadata": {
    "id": "ouYEVS_pDw0u"
   },
   "outputs": [],
   "source": [
    "scale= 1/Scaler.scale_"
   ]
  },
  {
   "cell_type": "code",
   "execution_count": 49,
   "id": "982cc9f6",
   "metadata": {},
   "outputs": [
    {
     "data": {
      "text/plain": [
       "array([108.47000885])"
      ]
     },
     "execution_count": 49,
     "metadata": {},
     "output_type": "execute_result"
    }
   ],
   "source": [
    "scale"
   ]
  },
  {
   "cell_type": "code",
   "execution_count": 50,
   "id": "vFuvGy_ID30N",
   "metadata": {
    "id": "vFuvGy_ID30N"
   },
   "outputs": [],
   "source": [
    "y_pred=y_pred*scale"
   ]
  },
  {
   "cell_type": "code",
   "execution_count": 51,
   "id": "f704973e",
   "metadata": {},
   "outputs": [
    {
     "data": {
      "text/plain": [
       "array([[57.79198873],\n",
       "       [57.84823698],\n",
       "       [57.88850297],\n",
       "       [57.89922246],\n",
       "       [57.823255  ],\n",
       "       [57.62041216],\n",
       "       [57.27617286],\n",
       "       [56.81149764],\n",
       "       [56.27359625],\n",
       "       [55.72370817],\n",
       "       [55.19490994],\n",
       "       [54.709119  ],\n",
       "       [54.25335299],\n",
       "       [53.80540032],\n",
       "       [53.33486429],\n",
       "       [52.79904797],\n",
       "       [52.17711363],\n",
       "       [51.44748328],\n",
       "       [50.62389249],\n",
       "       [49.7379502 ],\n",
       "       [48.85663706],\n",
       "       [48.05936011],\n",
       "       [47.41953948],\n",
       "       [47.04253072],\n",
       "       [46.96462365],\n",
       "       [47.17255146],\n",
       "       [47.59211493],\n",
       "       [48.13678874],\n",
       "       [48.74678487],\n",
       "       [49.35495779],\n",
       "       [49.8751733 ],\n",
       "       [50.2579168 ],\n",
       "       [50.49534261],\n",
       "       [50.61080346],\n",
       "       [50.59806356],\n",
       "       [50.44151885],\n",
       "       [50.13265453],\n",
       "       [49.67045876],\n",
       "       [49.10537718],\n",
       "       [48.51271456],\n",
       "       [47.96075434],\n",
       "       [47.49158896],\n",
       "       [47.12929849],\n",
       "       [46.87613934],\n",
       "       [46.70391947],\n",
       "       [46.53608956],\n",
       "       [46.31511797],\n",
       "       [46.06189416],\n",
       "       [45.80805291],\n",
       "       [45.56381589],\n",
       "       [45.30317313],\n",
       "       [45.02339949],\n",
       "       [44.76156388],\n",
       "       [44.56149466],\n",
       "       [44.46904064],\n",
       "       [44.50654917],\n",
       "       [44.69914125],\n",
       "       [45.03960481],\n",
       "       [45.52004893],\n",
       "       [46.12165955],\n",
       "       [46.8196454 ],\n",
       "       [47.59067317],\n",
       "       [48.4025488 ],\n",
       "       [49.19720407],\n",
       "       [49.93268552],\n",
       "       [50.60630037],\n",
       "       [51.20560933],\n",
       "       [51.68954796],\n",
       "       [52.02590927],\n",
       "       [52.18609719],\n",
       "       [52.13300077],\n",
       "       [51.84726935],\n",
       "       [51.35490642],\n",
       "       [50.68299195],\n",
       "       [49.87319815],\n",
       "       [48.99140335],\n",
       "       [48.086689  ],\n",
       "       [47.17404495],\n",
       "       [46.22805926],\n",
       "       [45.25484489],\n",
       "       [44.25432748],\n",
       "       [43.20691714],\n",
       "       [42.12776856],\n",
       "       [41.0250636 ],\n",
       "       [39.9262443 ],\n",
       "       [38.86478159],\n",
       "       [37.88373772],\n",
       "       [36.99692584],\n",
       "       [36.20164667],\n",
       "       [35.48269702],\n",
       "       [34.82978089],\n",
       "       [34.23448689],\n",
       "       [33.69041435],\n",
       "       [33.19920548],\n",
       "       [32.75778277],\n",
       "       [32.36926575],\n",
       "       [32.0203003 ],\n",
       "       [31.69133854],\n",
       "       [31.36441982],\n",
       "       [31.02760916],\n",
       "       [30.66335647],\n",
       "       [30.26034744],\n",
       "       [29.8235733 ],\n",
       "       [29.37361638],\n",
       "       [28.93976779],\n",
       "       [28.55009347],\n",
       "       [28.22827265],\n",
       "       [27.98056052],\n",
       "       [27.81293103],\n",
       "       [27.72943147],\n",
       "       [27.73227621],\n",
       "       [27.80648511],\n",
       "       [27.91521557],\n",
       "       [28.01251535],\n",
       "       [28.06507514],\n",
       "       [28.06255367],\n",
       "       [27.99817205],\n",
       "       [27.87637518],\n",
       "       [27.71395674],\n",
       "       [27.53125013],\n",
       "       [27.3485112 ],\n",
       "       [27.19773679],\n",
       "       [27.09664025],\n",
       "       [27.04362628],\n",
       "       [27.0283261 ],\n",
       "       [27.03138743],\n",
       "       [27.03456029],\n",
       "       [27.03527955],\n",
       "       [27.04011399],\n",
       "       [27.06843046],\n",
       "       [27.14745602],\n",
       "       [27.28696785],\n",
       "       [27.47599431],\n",
       "       [27.68257733],\n",
       "       [27.87638811],\n",
       "       [28.03992506],\n",
       "       [28.15549582],\n",
       "       [28.22635246],\n",
       "       [28.26380603],\n",
       "       [28.28178285],\n",
       "       [28.27327449],\n",
       "       [28.22809809],\n",
       "       [28.13374973],\n",
       "       [28.00321823],\n",
       "       [27.85718936],\n",
       "       [27.72183149],\n",
       "       [27.61547058],\n",
       "       [27.5499349 ],\n",
       "       [27.54214742],\n",
       "       [27.60949016],\n",
       "       [27.76041974],\n",
       "       [27.97902824],\n",
       "       [28.25197127],\n",
       "       [28.57567027],\n",
       "       [28.94388943],\n",
       "       [29.36719308],\n",
       "       [29.85176208],\n",
       "       [30.38381236],\n",
       "       [30.9302415 ],\n",
       "       [31.46161292],\n",
       "       [31.94192774],\n",
       "       [32.32809462],\n",
       "       [32.59128795],\n",
       "       [32.72416636],\n",
       "       [32.75102328],\n",
       "       [32.6863281 ],\n",
       "       [32.54399092],\n",
       "       [32.32277689],\n",
       "       [32.02392734],\n",
       "       [31.66589105],\n",
       "       [31.26407488],\n",
       "       [30.81799714],\n",
       "       [30.3411736 ],\n",
       "       [29.85026213],\n",
       "       [29.36242815],\n",
       "       [28.90077547],\n",
       "       [28.46230741],\n",
       "       [28.03216991],\n",
       "       [27.60087189],\n",
       "       [27.17397675],\n",
       "       [26.76511338],\n",
       "       [26.36460643],\n",
       "       [25.94485708],\n",
       "       [25.53013774],\n",
       "       [25.07135405],\n",
       "       [24.55612975],\n",
       "       [23.96828056],\n",
       "       [23.32506725],\n",
       "       [22.62768752],\n",
       "       [21.88160779],\n",
       "       [21.11071903],\n",
       "       [20.35226792],\n",
       "       [19.63475196],\n",
       "       [18.9889897 ],\n",
       "       [18.43059811],\n",
       "       [17.96071508],\n",
       "       [17.56820088],\n",
       "       [17.23556358],\n",
       "       [16.95079549],\n",
       "       [16.69416607],\n",
       "       [16.46304071],\n",
       "       [16.26367622],\n",
       "       [16.10021686],\n",
       "       [15.97547827],\n",
       "       [15.891156  ],\n",
       "       [15.84986688],\n",
       "       [15.85731977],\n",
       "       [15.89972578],\n",
       "       [15.94482298],\n",
       "       [15.96093939],\n",
       "       [15.92688334],\n",
       "       [15.82936859],\n",
       "       [15.66251979],\n",
       "       [15.41796758],\n",
       "       [15.08898481],\n",
       "       [14.67664794],\n",
       "       [14.19005854],\n",
       "       [13.6417092 ],\n",
       "       [13.0594816 ],\n",
       "       [12.48207551],\n",
       "       [11.9456765 ],\n",
       "       [11.48091077],\n",
       "       [11.10722437],\n",
       "       [10.83254379],\n",
       "       [10.65537149],\n",
       "       [10.56533227],\n",
       "       [10.54946961],\n",
       "       [10.59632699],\n",
       "       [10.69392741],\n",
       "       [10.82852236],\n",
       "       [10.98558268],\n",
       "       [11.15961283],\n",
       "       [11.35033966],\n",
       "       [11.55863276],\n",
       "       [11.78366375],\n",
       "       [12.01932211],\n",
       "       [12.2542321 ],\n",
       "       [12.4743737 ],\n",
       "       [12.66552482],\n",
       "       [12.81627903],\n",
       "       [12.9213986 ],\n",
       "       [12.98025804],\n",
       "       [12.99249203],\n",
       "       [12.95882066],\n",
       "       [12.87880591],\n",
       "       [12.75159758],\n",
       "       [12.57859703],\n",
       "       [12.36033603],\n",
       "       [12.10075358],\n",
       "       [11.80359713],\n",
       "       [11.47119744],\n",
       "       [11.11001335],\n",
       "       [10.72892578],\n",
       "       [10.33920136],\n",
       "       [ 9.9509672 ],\n",
       "       [ 9.56982064],\n",
       "       [ 9.20036983],\n",
       "       [ 8.847328  ],\n",
       "       [ 8.51539381],\n",
       "       [ 8.21229816],\n",
       "       [ 7.9455974 ],\n",
       "       [ 7.72185058],\n",
       "       [ 7.54478011],\n",
       "       [ 7.41474482],\n",
       "       [ 7.33205666],\n",
       "       [ 7.30451118],\n",
       "       [ 7.34160593],\n",
       "       [ 7.44735103],\n",
       "       [ 7.61791739],\n",
       "       [ 7.84723246],\n",
       "       [ 8.13006095],\n",
       "       [ 8.45794624],\n",
       "       [ 8.82225712],\n",
       "       [ 9.21665435],\n",
       "       [ 9.63984163],\n",
       "       [10.08982441],\n",
       "       [10.5682659 ],\n",
       "       [11.07411306],\n",
       "       [11.602428  ],\n",
       "       [12.14427566],\n",
       "       [12.68178994],\n",
       "       [13.18501299],\n",
       "       [13.62138709],\n",
       "       [13.97415576],\n",
       "       [14.2358249 ],\n",
       "       [14.40282402],\n",
       "       [14.47740791],\n",
       "       [14.46390186],\n",
       "       [14.369623  ],\n",
       "       [14.20163792],\n",
       "       [13.96746739],\n",
       "       [13.67624045],\n",
       "       [13.33900955],\n",
       "       [12.97115164],\n",
       "       [12.59244654],\n",
       "       [12.22582431],\n",
       "       [11.8892755 ],\n",
       "       [11.594529  ],\n",
       "       [11.34603053],\n",
       "       [11.14193827],\n",
       "       [10.97671711],\n",
       "       [10.84660262],\n",
       "       [10.75057005],\n",
       "       [10.69399206],\n",
       "       [10.68603002],\n",
       "       [10.7346783 ],\n",
       "       [10.84654443],\n",
       "       [11.0223283 ],\n",
       "       [11.25933468],\n",
       "       [11.55931485],\n",
       "       [11.91505838],\n",
       "       [12.32139139],\n",
       "       [12.77664179],\n",
       "       [13.26717585],\n",
       "       [13.77759237],\n",
       "       [14.29443299],\n",
       "       [14.80616278],\n",
       "       [15.30301587],\n",
       "       [15.78333715],\n",
       "       [16.24716865],\n",
       "       [16.69324476],\n",
       "       [17.11756024],\n",
       "       [17.52087799],\n",
       "       [17.90838481],\n",
       "       [18.27957963],\n",
       "       [18.62873904],\n",
       "       [18.94861703],\n",
       "       [19.23426602],\n",
       "       [19.48291563],\n",
       "       [19.69549684],\n",
       "       [19.87081036],\n",
       "       [20.00742411],\n",
       "       [20.11241762],\n",
       "       [20.19585899],\n",
       "       [20.26718274],\n",
       "       [20.33042808],\n",
       "       [20.38699799],\n",
       "       [20.43504498],\n",
       "       [20.47371727],\n",
       "       [20.50688111],\n",
       "       [20.53925134],\n",
       "       [20.5859681 ],\n",
       "       [20.67400146],\n",
       "       [20.8337869 ],\n",
       "       [21.08740995],\n",
       "       [21.44691871],\n",
       "       [21.89579431],\n",
       "       [22.44253217],\n",
       "       [23.08936445],\n",
       "       [23.86640011],\n",
       "       [24.79906886],\n",
       "       [25.88483146],\n",
       "       [27.07959606],\n",
       "       [28.34728297],\n",
       "       [29.60920927],\n",
       "       [30.80085436],\n",
       "       [31.8883335 ],\n",
       "       [32.8671242 ],\n",
       "       [33.74183948],\n",
       "       [34.53444524],\n",
       "       [35.22880082],\n",
       "       [35.80479908],\n",
       "       [36.25356962],\n",
       "       [36.58813035],\n",
       "       [36.83010128],\n",
       "       [37.00160672],\n",
       "       [37.13154665],\n",
       "       [37.23225365],\n",
       "       [37.30768773],\n",
       "       [37.3426166 ],\n",
       "       [37.3408548 ],\n",
       "       [37.30746144],\n",
       "       [37.22469246],\n",
       "       [37.07734467],\n",
       "       [36.87383914],\n",
       "       [36.62562595],\n",
       "       [36.35203962],\n",
       "       [36.07091151],\n",
       "       [35.80797356],\n",
       "       [35.57503144],\n",
       "       [35.37066602],\n",
       "       [35.17199655],\n",
       "       [34.96302783],\n",
       "       [34.74554752],\n",
       "       [34.5537636 ],\n",
       "       [34.42731818],\n",
       "       [34.39404766],\n",
       "       [34.45886569],\n",
       "       [34.60035591],\n",
       "       [34.76780437],\n",
       "       [34.92049574],\n",
       "       [35.04306844],\n",
       "       [35.13878099],\n",
       "       [35.25698637],\n",
       "       [35.44707313],\n",
       "       [35.75657429],\n",
       "       [36.21330687],\n",
       "       [36.81413841],\n",
       "       [37.5041202 ],\n",
       "       [38.21967232],\n",
       "       [38.90460794],\n",
       "       [39.54689832],\n",
       "       [40.14767492],\n",
       "       [40.69597253],\n",
       "       [41.18174084],\n",
       "       [41.59915783],\n",
       "       [41.9606466 ],\n",
       "       [42.26840859],\n",
       "       [42.51375441],\n",
       "       [42.70159771],\n",
       "       [42.823456  ],\n",
       "       [42.88078719],\n",
       "       [42.88747556],\n",
       "       [42.88572992],\n",
       "       [42.89337839],\n",
       "       [42.917591  ],\n",
       "       [42.9675679 ],\n",
       "       [43.07359262],\n",
       "       [43.26762   ],\n",
       "       [43.56732943],\n",
       "       [43.96702176],\n",
       "       [44.44519009],\n",
       "       [44.96279685],\n",
       "       [45.48785165],\n",
       "       [46.00309857],\n",
       "       [46.50126413],\n",
       "       [46.96445556],\n",
       "       [47.38813743],\n",
       "       [47.78311008],\n",
       "       [48.15522782],\n",
       "       [48.5109075 ],\n",
       "       [48.8521566 ],\n",
       "       [49.14448264],\n",
       "       [49.33190893],\n",
       "       [49.37717261],\n",
       "       [49.27775221],\n",
       "       [49.03282663],\n",
       "       [48.67151243],\n",
       "       [48.24510219],\n",
       "       [47.79398474],\n",
       "       [47.37209375],\n",
       "       [47.00914059],\n",
       "       [46.73812746],\n",
       "       [46.57598702],\n",
       "       [46.54174671],\n",
       "       [46.64512712],\n",
       "       [46.8770865 ],\n",
       "       [47.23202267],\n",
       "       [47.68501183],\n",
       "       [48.19006941],\n",
       "       [48.71651103],\n",
       "       [49.24553231],\n",
       "       [49.74896709],\n",
       "       [50.20166531],\n",
       "       [50.57053747],\n",
       "       [50.84392014],\n",
       "       [51.04196571],\n",
       "       [51.08949548],\n",
       "       [50.90119638],\n",
       "       [50.43925599],\n",
       "       [49.72853669],\n",
       "       [48.8234021 ],\n",
       "       [47.80524732],\n",
       "       [46.76003842],\n",
       "       [45.76972652],\n",
       "       [44.90248838],\n",
       "       [44.20639686],\n",
       "       [43.70966337],\n",
       "       [43.40424829],\n",
       "       [43.27930929],\n",
       "       [43.31076628],\n",
       "       [43.47849922],\n",
       "       [43.7647608 ],\n",
       "       [44.16313743],\n",
       "       [44.64836912],\n",
       "       [45.19473037],\n",
       "       [45.78037489],\n",
       "       [46.39364247],\n",
       "       [47.00956084],\n",
       "       [47.60110172],\n",
       "       [48.15089929],\n",
       "       [48.63105571],\n",
       "       [49.00259804],\n",
       "       [49.23763492],\n",
       "       [49.30880189],\n",
       "       [49.22346618],\n",
       "       [49.00157006],\n",
       "       [48.72298281],\n",
       "       [48.45403535],\n",
       "       [48.22390888],\n",
       "       [48.03305274],\n",
       "       [47.87484645],\n",
       "       [47.73549949],\n",
       "       [47.60819417],\n",
       "       [47.51459579],\n",
       "       [47.48185866],\n",
       "       [47.53664575],\n",
       "       [47.70494763],\n",
       "       [48.00098154],\n",
       "       [48.42085535],\n",
       "       [48.93506135],\n",
       "       [49.50309111],\n",
       "       [50.08237699],\n",
       "       [50.62646892],\n",
       "       [51.10813822],\n",
       "       [51.49724359],\n",
       "       [51.77318976],\n",
       "       [51.95483928],\n",
       "       [52.08555505],\n",
       "       [52.21277308],\n",
       "       [52.36928869],\n",
       "       [52.57504415],\n",
       "       [52.83297795],\n",
       "       [53.12522964],\n",
       "       [53.44472618],\n",
       "       [53.80628607],\n",
       "       [54.21799418],\n",
       "       [54.68347756],\n",
       "       [55.20831254],\n",
       "       [55.81167526],\n",
       "       [56.50025731],\n",
       "       [57.27132387],\n",
       "       [58.09367978],\n",
       "       [58.8344822 ],\n",
       "       [59.39104249],\n",
       "       [59.72304295],\n",
       "       [59.84511459],\n",
       "       [59.80099527],\n",
       "       [59.65118096],\n",
       "       [59.45493274],\n",
       "       [59.27828737],\n",
       "       [59.15847859],\n",
       "       [59.09076734],\n",
       "       [59.06312164],\n",
       "       [59.03756425],\n",
       "       [58.96552769],\n",
       "       [58.81944387],\n",
       "       [58.60592033],\n",
       "       [58.35686342],\n",
       "       [58.10536261],\n",
       "       [57.82748331],\n",
       "       [57.50703637],\n",
       "       [57.12188455],\n",
       "       [56.67970863],\n",
       "       [56.18989627],\n",
       "       [55.63875391],\n",
       "       [55.01638963],\n",
       "       [54.31853631],\n",
       "       [53.57428465],\n",
       "       [52.82916988],\n",
       "       [52.14358126],\n",
       "       [51.56890839],\n",
       "       [51.14174494],\n",
       "       [50.89902726],\n",
       "       [50.84011207],\n",
       "       [50.9835839 ],\n",
       "       [51.33087484],\n",
       "       [51.87106172],\n",
       "       [52.56672329],\n",
       "       [53.38962875],\n",
       "       [54.30111875],\n",
       "       [55.26181304],\n",
       "       [56.2353733 ],\n",
       "       [57.1909212 ],\n",
       "       [58.13447593],\n",
       "       [59.06773788],\n",
       "       [59.98762955],\n",
       "       [60.84938511],\n",
       "       [61.62716266],\n",
       "       [62.32669696],\n",
       "       [62.97617678],\n",
       "       [63.59548943],\n",
       "       [64.21615334],\n",
       "       [64.84607557],\n",
       "       [65.45549629],\n",
       "       [66.00925064],\n",
       "       [66.49039301],\n",
       "       [66.89940832],\n",
       "       [67.23036786],\n",
       "       [67.49866556],\n",
       "       [67.73837363],\n",
       "       [67.98588534],\n",
       "       [68.2407675 ],\n",
       "       [68.59050233],\n",
       "       [69.07972635],\n",
       "       [69.68698119],\n",
       "       [70.37252454],\n",
       "       [71.1138765 ],\n",
       "       [71.89508068],\n",
       "       [72.70391761],\n",
       "       [73.54623196],\n",
       "       [74.40971375],\n",
       "       [75.27469549],\n",
       "       [76.11046694],\n",
       "       [76.89346847],\n",
       "       [77.61647186],\n",
       "       [78.29212328],\n",
       "       [78.94312892],\n",
       "       [79.59566037],\n",
       "       [80.27052302],\n",
       "       [80.97939323],\n",
       "       [81.71055586],\n",
       "       [82.42243891],\n",
       "       [83.08222444],\n",
       "       [83.68340835],\n",
       "       [84.22646906],\n",
       "       [84.69137703],\n",
       "       [85.06110261],\n",
       "       [85.33657681],\n",
       "       [85.53343276],\n",
       "       [85.68183763],\n",
       "       [85.81789375],\n",
       "       [85.95519121],\n",
       "       [86.09489376],\n",
       "       [86.24446239],\n",
       "       [86.41725443],\n",
       "       [86.60703733],\n",
       "       [86.80446223],\n",
       "       [87.00755075],\n",
       "       [87.20244124],\n",
       "       [87.37833664],\n",
       "       [87.54580126],\n",
       "       [87.72252422],\n",
       "       [87.93951317],\n",
       "       [88.22305608],\n",
       "       [88.58393711],\n",
       "       [89.00354907],\n",
       "       [89.45105241],\n",
       "       [89.91191309],\n",
       "       [90.38198038]])"
      ]
     },
     "execution_count": 51,
     "metadata": {},
     "output_type": "execute_result"
    }
   ],
   "source": [
    "y_pred"
   ]
  },
  {
   "cell_type": "code",
   "execution_count": 66,
   "id": "c05f96c1",
   "metadata": {},
   "outputs": [],
   "source": [
    "y=y*scale"
   ]
  },
  {
   "cell_type": "code",
   "execution_count": 67,
   "id": "266f0765",
   "metadata": {},
   "outputs": [
    {
     "data": {
      "image/png": "[encoded data removed]",
      "text/plain": [
       "<Figure size 1000x800 with 1 Axes>"
      ]
     },
     "metadata": {},
     "output_type": "display_data"
    }
   ],
   "source": [
    "plt.figure(figsize=(10,8))\n",
    "plt.plot(y_pred,  'r', label='predicted price')\n",
    "plt.plot(y,'g', label='original price')\n",
    "plt.legend()\n",
    "plt.show()"
   ]
  },
  {
   "cell_type": "code",
   "execution_count": 64,
   "id": "6f484888",
   "metadata": {},
   "outputs": [
    {
     "data": {
      "image/png": "[encoded data removed]",
      "text/plain": [
       "<Figure size 640x480 with 1 Axes>"
      ]
     },
     "metadata": {},
     "output_type": "display_data"
    }
   ],
   "source": [
    "plt.plot(y,'g', label='original price')\n",
    "plt.plot(y_pred,  'r', label='predicted price')\n",
    "plt.show()\n"
   ]
  },
  {
   "cell_type": "code",
   "execution_count": 56,
   "id": "59817068",
   "metadata": {},
   "outputs": [
    {
     "data": {
      "image/png": "[encoded data removed]",
      "text/plain": [
       "<Figure size 640x480 with 1 Axes>"
      ]
     },
     "metadata": {},
     "output_type": "display_data"
    }
   ],
   "source": [
    "plt.plot(y_pred,  'r', label='predicted price')\n",
    "plt.show()"
   ]
  },
  {
   "cell_type": "code",
   "execution_count": 62,
   "id": "bc12fa7b",
   "metadata": {},
   "outputs": [
    {
     "data": {
      "image/png": "[encoded data removed]",
      "text/plain": [
       "<Figure size 1000x800 with 1 Axes>"
      ]
     },
     "metadata": {},
     "output_type": "display_data"
    }
   ],
   "source": [
    "plt.figure(figsize=(10,8))\n",
    "plt.plot(last_300_days,'r')\n",
    "plt.plot(data.Close,'b')\n",
    "plt.show()"
   ]
  },
  {
   "cell_type": "code",
   "execution_count": 72,
   "id": "75cd2a20",
   "metadata": {},
   "outputs": [],
   "source": [
    "model.save('Stock Prediction.keras')"
   ]
  },
  {
   "cell_type": "code",
   "execution_count": 73,
   "id": "d981a4fe",
   "metadata": {},
   "outputs": [
    {
     "name": "stderr",
     "output_type": "stream",
     "text": [
      "C:\\Users\\ADMIN\\.conda\\envs\\tf-new\\lib\\site-packages\\keras\\src\\engine\\training.py:3079: UserWarning: You are saving your model as an HDF5 file via `model.save()`. This file format is considered legacy. We recommend using instead the native Keras format, e.g. `model.save('my_model.keras')`.\n",
      "  saving_api.save_model(\n"
     ]
    }
   ],
   "source": [
    "model.save('Stock_Prediction.h5')"
   ]
  },
  {
   "cell_type": "code",
   "execution_count": 76,
   "id": "51f64830",
   "metadata": {},
   "outputs": [
    {
     "name": "stdout",
     "output_type": "stream",
     "text": [
      "2.14.0\n"
     ]
    }
   ],
   "source": [
    "print(keras.__version__)\n"
   ]
  },
  {
   "cell_type": "code",
   "execution_count": null,
   "id": "04728a41",
   "metadata": {},
   "outputs": [],
   "source": []
  }
 ],
 "metadata": {
  "accelerator": "GPU",
  "colab": {
   "gpuType": "T4",
   "provenance": [],
   "toc_visible": true
  },
  "kernelspec": {
   "display_name": "Python 3 (ipykernel)",
   "language": "python",
   "name": "python3"
  },
  "language_info": {
   "codemirror_mode": {
    "name": "ipython",
    "version": 3
   },
   "file_extension": ".py",
   "mimetype": "text/x-python",
   "name": "python",
   "nbconvert_exporter": "python",
   "pygments_lexer": "ipython3",
   "version": "3.11.5"
  }
 },
 "nbformat": 4,
 "nbformat_minor": 5
}
