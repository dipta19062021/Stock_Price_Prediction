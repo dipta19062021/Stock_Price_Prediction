{
 "cells": [
  {
   "cell_type": "code",
   "execution_count": null,
   "id": "57b0f1e5",
   "metadata": {},
   "outputs": [],
   "source": []
  },
  {
   "cell_type": "code",
   "execution_count": 1,
   "id": "25607c53",
   "metadata": {},
   "outputs": [
    {
     "name": "stdout",
     "output_type": "stream",
     "text": [
      "Collecting yfinanceNote: you may need to restart the kernel to use updated packages.\n",
      "\n",
      "  Obtaining dependency information for yfinance from https://files.pythonhosted.org/packages/7d/76/31fb9c58398f4cbdde4a0831d0407a1ca987fe828c7da9ce80969014a5a1/yfinance-0.2.40-py2.py3-none-any.whl.metadata\n",
      "  Using cached yfinance-0.2.40-py2.py3-none-any.whl.metadata (11 kB)\n",
      "Requirement already satisfied: pandas>=1.3.0 in c:\\users\\admin\\.conda\\envs\\tf-new\\lib\\site-packages (from yfinance) (2.1.1)\n",
      "Requirement already satisfied: numpy>=1.16.5 in c:\\users\\admin\\.conda\\envs\\tf-new\\lib\\site-packages (from yfinance) (1.26.0)\n",
      "Requirement already satisfied: requests>=2.31 in c:\\users\\admin\\.conda\\envs\\tf-new\\lib\\site-packages (from yfinance) (2.31.0)\n",
      "Collecting multitasking>=0.0.7 (from yfinance)\n",
      "  Obtaining dependency information for multitasking>=0.0.7 from https://files.pythonhosted.org/packages/3e/8a/bb3160e76e844db9e69a413f055818969c8acade64e1a9ac5ce9dfdcf6c1/multitasking-0.0.11-py3-none-any.whl.metadata\n",
      "  Using cached multitasking-0.0.11-py3-none-any.whl.metadata (5.5 kB)\n",
      "Requirement already satisfied: lxml>=4.9.1 in c:\\users\\admin\\.conda\\envs\\tf-new\\lib\\site-packages (from yfinance) (4.9.3)\n",
      "Requirement already satisfied: platformdirs>=2.0.0 in c:\\users\\admin\\.conda\\envs\\tf-new\\lib\\site-packages (from yfinance) (3.10.0)\n",
      "Requirement already satisfied: pytz>=2022.5 in c:\\users\\admin\\.conda\\envs\\tf-new\\lib\\site-packages (from yfinance) (2023.3.post1)\n",
      "Collecting frozendict>=2.3.4 (from yfinance)\n",
      "  Obtaining dependency information for frozendict>=2.3.4 from https://files.pythonhosted.org/packages/1b/50/59e6b4723f4c2fb607bfacbe4f7289a8076444cba187c83ed05f6e2818e7/frozendict-2.4.4-cp39-cp39-win_amd64.whl.metadata\n",
      "  Downloading frozendict-2.4.4-cp39-cp39-win_amd64.whl.metadata (23 kB)\n",
      "Collecting peewee>=3.16.2 (from yfinance)\n",
      "  Using cached peewee-3.17.6.tar.gz (3.0 MB)\n",
      "  Installing build dependencies: started\n",
      "  Installing build dependencies: finished with status 'done'\n",
      "  Getting requirements to build wheel: started\n",
      "  Getting requirements to build wheel: finished with status 'done'\n",
      "  Preparing metadata (pyproject.toml): started\n",
      "  Preparing metadata (pyproject.toml): finished with status 'done'\n",
      "Requirement already satisfied: beautifulsoup4>=4.11.1 in c:\\users\\admin\\.conda\\envs\\tf-new\\lib\\site-packages (from yfinance) (4.12.2)\n",
      "Collecting html5lib>=1.1 (from yfinance)\n",
      "  Obtaining dependency information for html5lib>=1.1 from https://files.pythonhosted.org/packages/6c/dd/a834df6482147d48e225a49515aabc28974ad5a4ca3215c18a882565b028/html5lib-1.1-py2.py3-none-any.whl.metadata\n",
      "  Using cached html5lib-1.1-py2.py3-none-any.whl.metadata (16 kB)\n",
      "Requirement already satisfied: soupsieve>1.2 in c:\\users\\admin\\.conda\\envs\\tf-new\\lib\\site-packages (from beautifulsoup4>=4.11.1->yfinance) (2.5)\n",
      "Requirement already satisfied: six>=1.9 in c:\\users\\admin\\.conda\\envs\\tf-new\\lib\\site-packages (from html5lib>=1.1->yfinance) (1.16.0)\n",
      "Requirement already satisfied: webencodings in c:\\users\\admin\\.conda\\envs\\tf-new\\lib\\site-packages (from html5lib>=1.1->yfinance) (0.5.1)\n",
      "Requirement already satisfied: python-dateutil>=2.8.2 in c:\\users\\admin\\.conda\\envs\\tf-new\\lib\\site-packages (from pandas>=1.3.0->yfinance) (2.8.2)\n",
      "Requirement already satisfied: tzdata>=2022.1 in c:\\users\\admin\\.conda\\envs\\tf-new\\lib\\site-packages (from pandas>=1.3.0->yfinance) (2023.3)\n",
      "Requirement already satisfied: charset-normalizer<4,>=2 in c:\\users\\admin\\.conda\\envs\\tf-new\\lib\\site-packages (from requests>=2.31->yfinance) (2.0.4)\n",
      "Requirement already satisfied: idna<4,>=2.5 in c:\\users\\admin\\.conda\\envs\\tf-new\\lib\\site-packages (from requests>=2.31->yfinance) (3.4)\n",
      "Requirement already satisfied: urllib3<3,>=1.21.1 in c:\\users\\admin\\.conda\\envs\\tf-new\\lib\\site-packages (from requests>=2.31->yfinance) (1.26.16)\n",
      "Requirement already satisfied: certifi>=2017.4.17 in c:\\users\\admin\\.conda\\envs\\tf-new\\lib\\site-packages (from requests>=2.31->yfinance) (2023.7.22)\n",
      "Using cached yfinance-0.2.40-py2.py3-none-any.whl (73 kB)\n",
      "Downloading frozendict-2.4.4-cp39-cp39-win_amd64.whl (37 kB)\n",
      "Using cached html5lib-1.1-py2.py3-none-any.whl (112 kB)\n",
      "Using cached multitasking-0.0.11-py3-none-any.whl (8.5 kB)\n",
      "Building wheels for collected packages: peewee\n",
      "  Building wheel for peewee (pyproject.toml): started\n",
      "  Building wheel for peewee (pyproject.toml): finished with status 'done'\n",
      "  Created wheel for peewee: filename=peewee-3.17.6-py3-none-any.whl size=138937 sha256=df897bee7e39616e6ad04752ddebe4e7a16b6359b61a96154922b25a87ce4cde\n",
      "  Stored in directory: c:\\users\\admin\\appdata\\local\\pip\\cache\\wheels\\3e\\23\\b4\\7729b2d48a34ee9d95c11f7f8dfd4ff0571a056e2691118b34\n",
      "Successfully built peewee\n",
      "Installing collected packages: peewee, multitasking, html5lib, frozendict, yfinance\n",
      "Successfully installed frozendict-2.4.4 html5lib-1.1 multitasking-0.0.11 peewee-3.17.6 yfinance-0.2.40\n"
     ]
    }
   ],
   "source": [
    "pip install yfinance"
   ]
  },
  {
   "cell_type": "code",
   "execution_count": 2,
   "id": "594647f6",
   "metadata": {},
   "outputs": [],
   "source": [
    "import numpy as np\n",
    "import pandas as pd\n",
    "import yfinance as yf\n",
    "import matplotlib.pyplot as plt"
   ]
  },
  {
   "cell_type": "code",
   "execution_count": 3,
   "id": "030f8c7c",
   "metadata": {},
   "outputs": [
    {
     "name": "stderr",
     "output_type": "stream",
     "text": [
      "[*********************100%%**********************]  1 of 1 completed\n"
     ]
    }
   ],
   "source": [
    "start='2012-01-01'\n",
    "end='2024-07-07'\n",
    "\n",
    "stock='GOOG'\n",
    "\n",
    "data=yf.download(stock,start,end)"
   ]
  },
  {
   "cell_type": "code",
   "execution_count": 4,
   "id": "f0ecd0d1",
   "metadata": {},
   "outputs": [
    {
     "data": {
      "text/html": [
       "<div>\n",
       "<style scoped>\n",
       "    .dataframe tbody tr th:only-of-type {\n",
       "        vertical-align: middle;\n",
       "    }\n",
       "\n",
       "    .dataframe tbody tr th {\n",
       "        vertical-align: top;\n",
       "    }\n",
       "\n",
       "    .dataframe thead th {\n",
       "        text-align: right;\n",
       "    }\n",
       "</style>\n",
       "<table border=\"1\" class=\"dataframe\">\n",
       "  <thead>\n",
       "    <tr style=\"text-align: right;\">\n",
       "      <th></th>\n",
       "      <th>Open</th>\n",
       "      <th>High</th>\n",
       "      <th>Low</th>\n",
       "      <th>Close</th>\n",
       "      <th>Adj Close</th>\n",
       "      <th>Volume</th>\n",
       "    </tr>\n",
       "    <tr>\n",
       "      <th>Date</th>\n",
       "      <th></th>\n",
       "      <th></th>\n",
       "      <th></th>\n",
       "      <th></th>\n",
       "      <th></th>\n",
       "      <th></th>\n",
       "    </tr>\n",
       "  </thead>\n",
       "  <tbody>\n",
       "    <tr>\n",
       "      <th>2012-01-03</th>\n",
       "      <td>16.262545</td>\n",
       "      <td>16.641375</td>\n",
       "      <td>16.248346</td>\n",
       "      <td>16.573130</td>\n",
       "      <td>16.554291</td>\n",
       "      <td>147611217</td>\n",
       "    </tr>\n",
       "    <tr>\n",
       "      <th>2012-01-04</th>\n",
       "      <td>16.563665</td>\n",
       "      <td>16.693678</td>\n",
       "      <td>16.453827</td>\n",
       "      <td>16.644611</td>\n",
       "      <td>16.625692</td>\n",
       "      <td>114989399</td>\n",
       "    </tr>\n",
       "    <tr>\n",
       "      <th>2012-01-05</th>\n",
       "      <td>16.491436</td>\n",
       "      <td>16.537264</td>\n",
       "      <td>16.344486</td>\n",
       "      <td>16.413727</td>\n",
       "      <td>16.395069</td>\n",
       "      <td>131808205</td>\n",
       "    </tr>\n",
       "    <tr>\n",
       "      <th>2012-01-06</th>\n",
       "      <td>16.417213</td>\n",
       "      <td>16.438385</td>\n",
       "      <td>16.184088</td>\n",
       "      <td>16.189817</td>\n",
       "      <td>16.171415</td>\n",
       "      <td>108119746</td>\n",
       "    </tr>\n",
       "    <tr>\n",
       "      <th>2012-01-09</th>\n",
       "      <td>16.102144</td>\n",
       "      <td>16.114599</td>\n",
       "      <td>15.472754</td>\n",
       "      <td>15.503389</td>\n",
       "      <td>15.485767</td>\n",
       "      <td>233776981</td>\n",
       "    </tr>\n",
       "  </tbody>\n",
       "</table>\n",
       "</div>"
      ],
      "text/plain": [
       "                 Open       High        Low      Close  Adj Close     Volume\n",
       "Date                                                                        \n",
       "2012-01-03  16.262545  16.641375  16.248346  16.573130  16.554291  147611217\n",
       "2012-01-04  16.563665  16.693678  16.453827  16.644611  16.625692  114989399\n",
       "2012-01-05  16.491436  16.537264  16.344486  16.413727  16.395069  131808205\n",
       "2012-01-06  16.417213  16.438385  16.184088  16.189817  16.171415  108119746\n",
       "2012-01-09  16.102144  16.114599  15.472754  15.503389  15.485767  233776981"
      ]
     },
     "execution_count": 4,
     "metadata": {},
     "output_type": "execute_result"
    }
   ],
   "source": [
    "data.head()"
   ]
  },
  {
   "cell_type": "code",
   "execution_count": 5,
   "id": "9e8c9193",
   "metadata": {},
   "outputs": [
    {
     "data": {
      "text/html": [
       "<div>\n",
       "<style scoped>\n",
       "    .dataframe tbody tr th:only-of-type {\n",
       "        vertical-align: middle;\n",
       "    }\n",
       "\n",
       "    .dataframe tbody tr th {\n",
       "        vertical-align: top;\n",
       "    }\n",
       "\n",
       "    .dataframe thead th {\n",
       "        text-align: right;\n",
       "    }\n",
       "</style>\n",
       "<table border=\"1\" class=\"dataframe\">\n",
       "  <thead>\n",
       "    <tr style=\"text-align: right;\">\n",
       "      <th></th>\n",
       "      <th>Open</th>\n",
       "      <th>High</th>\n",
       "      <th>Low</th>\n",
       "      <th>Close</th>\n",
       "      <th>Adj Close</th>\n",
       "      <th>Volume</th>\n",
       "    </tr>\n",
       "    <tr>\n",
       "      <th>Date</th>\n",
       "      <th></th>\n",
       "      <th></th>\n",
       "      <th></th>\n",
       "      <th></th>\n",
       "      <th></th>\n",
       "      <th></th>\n",
       "    </tr>\n",
       "  </thead>\n",
       "  <tbody>\n",
       "    <tr>\n",
       "      <th>2024-06-28</th>\n",
       "      <td>185.720001</td>\n",
       "      <td>186.580002</td>\n",
       "      <td>183.324997</td>\n",
       "      <td>183.419998</td>\n",
       "      <td>183.419998</td>\n",
       "      <td>23032400</td>\n",
       "    </tr>\n",
       "    <tr>\n",
       "      <th>2024-07-01</th>\n",
       "      <td>184.479996</td>\n",
       "      <td>185.339996</td>\n",
       "      <td>182.729996</td>\n",
       "      <td>184.490005</td>\n",
       "      <td>184.490005</td>\n",
       "      <td>11815900</td>\n",
       "    </tr>\n",
       "    <tr>\n",
       "      <th>2024-07-02</th>\n",
       "      <td>183.470001</td>\n",
       "      <td>186.949997</td>\n",
       "      <td>183.059998</td>\n",
       "      <td>186.610001</td>\n",
       "      <td>186.610001</td>\n",
       "      <td>12555500</td>\n",
       "    </tr>\n",
       "    <tr>\n",
       "      <th>2024-07-03</th>\n",
       "      <td>186.300003</td>\n",
       "      <td>187.619995</td>\n",
       "      <td>185.384995</td>\n",
       "      <td>187.389999</td>\n",
       "      <td>187.389999</td>\n",
       "      <td>7409100</td>\n",
       "    </tr>\n",
       "    <tr>\n",
       "      <th>2024-07-05</th>\n",
       "      <td>187.320007</td>\n",
       "      <td>192.259995</td>\n",
       "      <td>187.320007</td>\n",
       "      <td>191.960007</td>\n",
       "      <td>191.960007</td>\n",
       "      <td>14303400</td>\n",
       "    </tr>\n",
       "  </tbody>\n",
       "</table>\n",
       "</div>"
      ],
      "text/plain": [
       "                  Open        High         Low       Close   Adj Close  \\\n",
       "Date                                                                     \n",
       "2024-06-28  185.720001  186.580002  183.324997  183.419998  183.419998   \n",
       "2024-07-01  184.479996  185.339996  182.729996  184.490005  184.490005   \n",
       "2024-07-02  183.470001  186.949997  183.059998  186.610001  186.610001   \n",
       "2024-07-03  186.300003  187.619995  185.384995  187.389999  187.389999   \n",
       "2024-07-05  187.320007  192.259995  187.320007  191.960007  191.960007   \n",
       "\n",
       "              Volume  \n",
       "Date                  \n",
       "2024-06-28  23032400  \n",
       "2024-07-01  11815900  \n",
       "2024-07-02  12555500  \n",
       "2024-07-03   7409100  \n",
       "2024-07-05  14303400  "
      ]
     },
     "execution_count": 5,
     "metadata": {},
     "output_type": "execute_result"
    }
   ],
   "source": [
    "data.tail()"
   ]
  },
  {
   "cell_type": "code",
   "execution_count": 6,
   "id": "0e2165a0",
   "metadata": {},
   "outputs": [],
   "source": [
    "data.reset_index(inplace=True)"
   ]
  },
  {
   "cell_type": "code",
   "execution_count": 7,
   "id": "3b49db36",
   "metadata": {},
   "outputs": [
    {
     "data": {
      "text/html": [
       "<div>\n",
       "<style scoped>\n",
       "    .dataframe tbody tr th:only-of-type {\n",
       "        vertical-align: middle;\n",
       "    }\n",
       "\n",
       "    .dataframe tbody tr th {\n",
       "        vertical-align: top;\n",
       "    }\n",
       "\n",
       "    .dataframe thead th {\n",
       "        text-align: right;\n",
       "    }\n",
       "</style>\n",
       "<table border=\"1\" class=\"dataframe\">\n",
       "  <thead>\n",
       "    <tr style=\"text-align: right;\">\n",
       "      <th></th>\n",
       "      <th>Date</th>\n",
       "      <th>Open</th>\n",
       "      <th>High</th>\n",
       "      <th>Low</th>\n",
       "      <th>Close</th>\n",
       "      <th>Adj Close</th>\n",
       "      <th>Volume</th>\n",
       "    </tr>\n",
       "  </thead>\n",
       "  <tbody>\n",
       "    <tr>\n",
       "      <th>0</th>\n",
       "      <td>2012-01-03</td>\n",
       "      <td>16.262545</td>\n",
       "      <td>16.641375</td>\n",
       "      <td>16.248346</td>\n",
       "      <td>16.573130</td>\n",
       "      <td>16.554291</td>\n",
       "      <td>147611217</td>\n",
       "    </tr>\n",
       "    <tr>\n",
       "      <th>1</th>\n",
       "      <td>2012-01-04</td>\n",
       "      <td>16.563665</td>\n",
       "      <td>16.693678</td>\n",
       "      <td>16.453827</td>\n",
       "      <td>16.644611</td>\n",
       "      <td>16.625692</td>\n",
       "      <td>114989399</td>\n",
       "    </tr>\n",
       "    <tr>\n",
       "      <th>2</th>\n",
       "      <td>2012-01-05</td>\n",
       "      <td>16.491436</td>\n",
       "      <td>16.537264</td>\n",
       "      <td>16.344486</td>\n",
       "      <td>16.413727</td>\n",
       "      <td>16.395069</td>\n",
       "      <td>131808205</td>\n",
       "    </tr>\n",
       "    <tr>\n",
       "      <th>3</th>\n",
       "      <td>2012-01-06</td>\n",
       "      <td>16.417213</td>\n",
       "      <td>16.438385</td>\n",
       "      <td>16.184088</td>\n",
       "      <td>16.189817</td>\n",
       "      <td>16.171415</td>\n",
       "      <td>108119746</td>\n",
       "    </tr>\n",
       "    <tr>\n",
       "      <th>4</th>\n",
       "      <td>2012-01-09</td>\n",
       "      <td>16.102144</td>\n",
       "      <td>16.114599</td>\n",
       "      <td>15.472754</td>\n",
       "      <td>15.503389</td>\n",
       "      <td>15.485767</td>\n",
       "      <td>233776981</td>\n",
       "    </tr>\n",
       "    <tr>\n",
       "      <th>...</th>\n",
       "      <td>...</td>\n",
       "      <td>...</td>\n",
       "      <td>...</td>\n",
       "      <td>...</td>\n",
       "      <td>...</td>\n",
       "      <td>...</td>\n",
       "      <td>...</td>\n",
       "    </tr>\n",
       "    <tr>\n",
       "      <th>3141</th>\n",
       "      <td>2024-06-28</td>\n",
       "      <td>185.720001</td>\n",
       "      <td>186.580002</td>\n",
       "      <td>183.324997</td>\n",
       "      <td>183.419998</td>\n",
       "      <td>183.419998</td>\n",
       "      <td>23032400</td>\n",
       "    </tr>\n",
       "    <tr>\n",
       "      <th>3142</th>\n",
       "      <td>2024-07-01</td>\n",
       "      <td>184.479996</td>\n",
       "      <td>185.339996</td>\n",
       "      <td>182.729996</td>\n",
       "      <td>184.490005</td>\n",
       "      <td>184.490005</td>\n",
       "      <td>11815900</td>\n",
       "    </tr>\n",
       "    <tr>\n",
       "      <th>3143</th>\n",
       "      <td>2024-07-02</td>\n",
       "      <td>183.470001</td>\n",
       "      <td>186.949997</td>\n",
       "      <td>183.059998</td>\n",
       "      <td>186.610001</td>\n",
       "      <td>186.610001</td>\n",
       "      <td>12555500</td>\n",
       "    </tr>\n",
       "    <tr>\n",
       "      <th>3144</th>\n",
       "      <td>2024-07-03</td>\n",
       "      <td>186.300003</td>\n",
       "      <td>187.619995</td>\n",
       "      <td>185.384995</td>\n",
       "      <td>187.389999</td>\n",
       "      <td>187.389999</td>\n",
       "      <td>7409100</td>\n",
       "    </tr>\n",
       "    <tr>\n",
       "      <th>3145</th>\n",
       "      <td>2024-07-05</td>\n",
       "      <td>187.320007</td>\n",
       "      <td>192.259995</td>\n",
       "      <td>187.320007</td>\n",
       "      <td>191.960007</td>\n",
       "      <td>191.960007</td>\n",
       "      <td>14303400</td>\n",
       "    </tr>\n",
       "  </tbody>\n",
       "</table>\n",
       "<p>3146 rows × 7 columns</p>\n",
       "</div>"
      ],
      "text/plain": [
       "           Date        Open        High         Low       Close   Adj Close  \\\n",
       "0    2012-01-03   16.262545   16.641375   16.248346   16.573130   16.554291   \n",
       "1    2012-01-04   16.563665   16.693678   16.453827   16.644611   16.625692   \n",
       "2    2012-01-05   16.491436   16.537264   16.344486   16.413727   16.395069   \n",
       "3    2012-01-06   16.417213   16.438385   16.184088   16.189817   16.171415   \n",
       "4    2012-01-09   16.102144   16.114599   15.472754   15.503389   15.485767   \n",
       "...         ...         ...         ...         ...         ...         ...   \n",
       "3141 2024-06-28  185.720001  186.580002  183.324997  183.419998  183.419998   \n",
       "3142 2024-07-01  184.479996  185.339996  182.729996  184.490005  184.490005   \n",
       "3143 2024-07-02  183.470001  186.949997  183.059998  186.610001  186.610001   \n",
       "3144 2024-07-03  186.300003  187.619995  185.384995  187.389999  187.389999   \n",
       "3145 2024-07-05  187.320007  192.259995  187.320007  191.960007  191.960007   \n",
       "\n",
       "         Volume  \n",
       "0     147611217  \n",
       "1     114989399  \n",
       "2     131808205  \n",
       "3     108119746  \n",
       "4     233776981  \n",
       "...         ...  \n",
       "3141   23032400  \n",
       "3142   11815900  \n",
       "3143   12555500  \n",
       "3144    7409100  \n",
       "3145   14303400  \n",
       "\n",
       "[3146 rows x 7 columns]"
      ]
     },
     "execution_count": 7,
     "metadata": {},
     "output_type": "execute_result"
    }
   ],
   "source": [
    "data\n"
   ]
  },
  {
   "cell_type": "code",
   "execution_count": 8,
   "id": "616129b2",
   "metadata": {},
   "outputs": [],
   "source": [
    "#creat a moving average of 100 days\n",
    "\n",
    "last_100_days=data.Close.rolling(100).mean()"
   ]
  },
  {
   "cell_type": "code",
   "execution_count": 9,
   "id": "c84f73d8",
   "metadata": {},
   "outputs": [
    {
     "data": {
      "text/plain": [
       "0            NaN\n",
       "1            NaN\n",
       "2            NaN\n",
       "3            NaN\n",
       "4            NaN\n",
       "          ...   \n",
       "3141    160.3614\n",
       "3142    160.7522\n",
       "3143    161.1515\n",
       "3144    161.5532\n",
       "3145    161.9706\n",
       "Name: Close, Length: 3146, dtype: float64"
      ]
     },
     "execution_count": 9,
     "metadata": {},
     "output_type": "execute_result"
    }
   ],
   "source": [
    "last_100_days"
   ]
  },
  {
   "cell_type": "code",
   "execution_count": 10,
   "id": "d318d31e",
   "metadata": {},
   "outputs": [
    {
     "data": {
      "image/png": "[encoded data removed]",
      "text/plain": [
       "<Figure size 1000x800 with 1 Axes>"
      ]
     },
     "metadata": {},
     "output_type": "display_data"
    }
   ],
   "source": [
    "plt.figure(figsize=(10,8))\n",
    "plt.plot(last_100_days,'r')\n",
    "plt.plot(data.Close,'b')\n",
    "plt.show()"
   ]
  },
  {
   "cell_type": "code",
   "execution_count": 11,
   "id": "b064a13a",
   "metadata": {},
   "outputs": [],
   "source": [
    "#creat a moving average of 100 days\n",
    "\n",
    "last_200_days=data.Close.rolling(200).mean()"
   ]
  },
  {
   "cell_type": "code",
   "execution_count": 12,
   "id": "e088e02a",
   "metadata": {},
   "outputs": [
    {
     "data": {
      "image/png": "[encoded data removed]",
      "text/plain": [
       "<Figure size 1000x800 with 1 Axes>"
      ]
     },
     "metadata": {},
     "output_type": "display_data"
    }
   ],
   "source": [
    "plt.figure(figsize=(10,8))\n",
    "plt.plot(last_200_days,'r')\n",
    "plt.plot(last_100_days,'y')\n",
    "plt.plot(data.Close,'b')\n",
    "plt.show()"
   ]
  },
  {
   "cell_type": "code",
   "execution_count": 13,
   "id": "46c95ade",
   "metadata": {},
   "outputs": [],
   "source": [
    "#creat a moving average of 100 days\n",
    "\n",
    "last_300_days=data.Close.rolling(300).mean()"
   ]
  },
  {
   "cell_type": "code",
   "execution_count": 14,
   "id": "cd7172f6",
   "metadata": {},
   "outputs": [
    {
     "data": {
      "image/png": "[encoded data removed]",
      "text/plain": [
       "<Figure size 1000x800 with 1 Axes>"
      ]
     },
     "metadata": {},
     "output_type": "display_data"
    }
   ],
   "source": [
    "plt.figure(figsize=(10,8))\n",
    "plt.plot(last_300_days,'r')\n",
    "plt.plot(data.Close,'b')\n",
    "plt.show()"
   ]
  },
  {
   "cell_type": "code",
   "execution_count": 15,
   "id": "0e359be7",
   "metadata": {},
   "outputs": [],
   "source": [
    "data.dropna(inplace=True)"
   ]
  },
  {
   "cell_type": "code",
   "execution_count": 16,
   "id": "94caa00d",
   "metadata": {},
   "outputs": [],
   "source": [
    "data_train=pd.DataFrame(data.Close[0:int(len(data)*0.80)])\n",
    "data_test=pd.DataFrame(data.Close[int(len(data)*0.80):len(data)])"
   ]
  },
  {
   "cell_type": "code",
   "execution_count": 17,
   "id": "20b49e3f",
   "metadata": {},
   "outputs": [
    {
     "data": {
      "text/plain": [
       "2516"
      ]
     },
     "execution_count": 17,
     "metadata": {},
     "output_type": "execute_result"
    }
   ],
   "source": [
    "data_train.shape[0]"
   ]
  },
  {
   "cell_type": "code",
   "execution_count": 18,
   "id": "e92cbc63",
   "metadata": {},
   "outputs": [
    {
     "data": {
      "text/plain": [
       "630"
      ]
     },
     "execution_count": 18,
     "metadata": {},
     "output_type": "execute_result"
    }
   ],
   "source": [
    "data_test.shape[0]"
   ]
  },
  {
   "cell_type": "code",
   "execution_count": 19,
   "id": "78c02b44",
   "metadata": {},
   "outputs": [],
   "source": [
    "from sklearn.preprocessing import MinMaxScaler\n",
    "Scaler=MinMaxScaler(feature_range=(0,1))\n"
   ]
  },
  {
   "cell_type": "code",
   "execution_count": 20,
   "id": "4422f0ac",
   "metadata": {},
   "outputs": [],
   "source": [
    "data_tr_sc=Scaler.fit_transform(data_train)"
   ]
  },
  {
   "cell_type": "code",
   "execution_count": 21,
   "id": "0a0964ef",
   "metadata": {},
   "outputs": [],
   "source": [
    "x=[]\n",
    "y=[]\n",
    "for i in range(100, data_tr_sc.shape[0]):\n",
    "    x.append(data_tr_sc[i-100:i])\n",
    "    y.append(data_tr_sc[i,0])"
   ]
  },
  {
   "cell_type": "code",
   "execution_count": 22,
   "id": "4ce45820",
   "metadata": {},
   "outputs": [],
   "source": [
    "x=np.array(x)\n",
    "y=np.array(y)"
   ]
  },
  {
   "cell_type": "code",
   "execution_count": 23,
   "id": "326e9632",
   "metadata": {},
   "outputs": [
    {
     "name": "stdout",
     "output_type": "stream",
     "text": [
      "Requirement already satisfied: keras in c:\\users\\admin\\.conda\\envs\\tf-new\\lib\\site-packages (2.14.0)\n",
      "Note: you may need to restart the kernel to use updated packages.\n"
     ]
    }
   ],
   "source": [
    "pip install keras"
   ]
  },
  {
   "cell_type": "code",
   "execution_count": 27,
   "id": "f6afe492",
   "metadata": {},
   "outputs": [],
   "source": [
    "import tensorflow as tf"
   ]
  },
  {
   "cell_type": "code",
   "execution_count": 29,
   "id": "a374e756",
   "metadata": {},
   "outputs": [],
   "source": [
    "from keras.layers import Dense,Dropout,LSTM\n",
    "from keras.models import Sequential"
   ]
  },
  {
   "cell_type": "code",
   "execution_count": 40,
   "id": "f79ec112",
   "metadata": {},
   "outputs": [],
   "source": [
    "model=Sequential()\n",
    "model.add(LSTM(units=50, activation='relu', return_sequences=True, input_shape=((x.shape[1],1))))\n",
    "model.add(Dropout(0.2))\n",
    "model.add(LSTM(units=60, activation='relu', return_sequences=True))\n",
    "model.add(Dropout(0.3))\n",
    "model.add(LSTM(units=80, activation='relu', return_sequences=True))\n",
    "model.add(Dropout(0.4))\n",
    "model.add(LSTM(units=120, activation='relu'))\n",
    "model.add(Dropout(0.5))\n",
    "          \n",
    "model.add(Dense(units=1))"
   ]
  },
  {
   "cell_type": "code",
   "execution_count": 41,
   "id": "cf48cfed",
   "metadata": {},
   "outputs": [],
   "source": [
    "model.compile(optimizer='adam', loss='mean_squared_error')"
   ]
  },
  {
   "cell_type": "code",
   "execution_count": 42,
   "id": "cb5df9ed",
   "metadata": {},
   "outputs": [
    {
     "name": "stdout",
     "output_type": "stream",
     "text": [
      "Model: \"sequential_4\"\n",
      "_________________________________________________________________\n",
      " Layer (type)                Output Shape              Param #   \n",
      "=================================================================\n",
      " lstm_8 (LSTM)               (None, 100, 50)           10400     \n",
      "                                                                 \n",
      " dropout_5 (Dropout)         (None, 100, 50)           0         \n",
      "                                                                 \n",
      " lstm_9 (LSTM)               (None, 100, 60)           26640     \n",
      "                                                                 \n",
      " dropout_6 (Dropout)         (None, 100, 60)           0         \n",
      "                                                                 \n",
      " lstm_10 (LSTM)              (None, 100, 80)           45120     \n",
      "                                                                 \n",
      " dropout_7 (Dropout)         (None, 100, 80)           0         \n",
      "                                                                 \n",
      " lstm_11 (LSTM)              (None, 120)               96480     \n",
      "                                                                 \n",
      " dropout_8 (Dropout)         (None, 120)               0         \n",
      "                                                                 \n",
      " dense_1 (Dense)             (None, 1)                 121       \n",
      "                                                                 \n",
      "=================================================================\n",
      "Total params: 178761 (698.29 KB)\n",
      "Trainable params: 178761 (698.29 KB)\n",
      "Non-trainable params: 0 (0.00 Byte)\n",
      "_________________________________________________________________\n"
     ]
    }
   ],
   "source": [
    "model.summary()"
   ]
  },
  {
   "cell_type": "code",
   "execution_count": null,
   "id": "5810e4e1",
   "metadata": {},
   "outputs": [
    {
     "name": "stdout",
     "output_type": "stream",
     "text": [
      "Epoch 1/100\n",
      "76/76 - 23s - loss: 0.0256 - 23s/epoch - 304ms/step\n",
      "Epoch 2/100\n",
      "76/76 - 22s - loss: 0.0054 - 22s/epoch - 286ms/step\n",
      "Epoch 3/100\n",
      "76/76 - 18s - loss: 0.0035 - 18s/epoch - 242ms/step\n",
      "Epoch 4/100\n",
      "76/76 - 16s - loss: 0.0038 - 16s/epoch - 216ms/step\n",
      "Epoch 5/100\n",
      "76/76 - 17s - loss: 0.0033 - 17s/epoch - 225ms/step\n",
      "Epoch 6/100\n",
      "76/76 - 20s - loss: 0.0036 - 20s/epoch - 265ms/step\n",
      "Epoch 7/100\n",
      "76/76 - 22s - loss: 0.0035 - 22s/epoch - 290ms/step\n",
      "Epoch 8/100\n",
      "76/76 - 21s - loss: 0.0027 - 21s/epoch - 282ms/step\n",
      "Epoch 9/100\n",
      "76/76 - 22s - loss: 0.0027 - 22s/epoch - 286ms/step\n",
      "Epoch 10/100\n",
      "76/76 - 21s - loss: 0.0028 - 21s/epoch - 280ms/step\n",
      "Epoch 11/100\n",
      "76/76 - 19s - loss: 0.0024 - 19s/epoch - 246ms/step\n",
      "Epoch 12/100\n",
      "76/76 - 18s - loss: 0.0027 - 18s/epoch - 237ms/step\n",
      "Epoch 13/100\n",
      "76/76 - 18s - loss: 0.0027 - 18s/epoch - 231ms/step\n",
      "Epoch 14/100\n",
      "76/76 - 19s - loss: 0.0024 - 19s/epoch - 250ms/step\n",
      "Epoch 15/100\n",
      "76/76 - 20s - loss: 0.0024 - 20s/epoch - 257ms/step\n",
      "Epoch 16/100\n",
      "76/76 - 20s - loss: 0.0022 - 20s/epoch - 257ms/step\n",
      "Epoch 17/100\n",
      "76/76 - 20s - loss: 0.0021 - 20s/epoch - 259ms/step\n",
      "Epoch 18/100\n",
      "76/76 - 20s - loss: 0.0020 - 20s/epoch - 263ms/step\n",
      "Epoch 19/100\n",
      "76/76 - 19s - loss: 0.0022 - 19s/epoch - 248ms/step\n",
      "Epoch 20/100\n",
      "76/76 - 19s - loss: 0.0019 - 19s/epoch - 244ms/step\n",
      "Epoch 21/100\n",
      "76/76 - 22s - loss: 0.0022 - 22s/epoch - 296ms/step\n",
      "Epoch 22/100\n",
      "76/76 - 24s - loss: 0.0023 - 24s/epoch - 313ms/step\n",
      "Epoch 23/100\n",
      "76/76 - 23s - loss: 0.0022 - 23s/epoch - 300ms/step\n",
      "Epoch 24/100\n",
      "76/76 - 24s - loss: 0.0021 - 24s/epoch - 321ms/step\n",
      "Epoch 25/100\n",
      "76/76 - 24s - loss: 0.0023 - 24s/epoch - 311ms/step\n",
      "Epoch 26/100\n",
      "76/76 - 24s - loss: 0.0019 - 24s/epoch - 313ms/step\n",
      "Epoch 27/100\n",
      "76/76 - 20s - loss: 0.0018 - 20s/epoch - 265ms/step\n",
      "Epoch 28/100\n",
      "76/76 - 15s - loss: 0.0019 - 15s/epoch - 196ms/step\n",
      "Epoch 29/100\n",
      "76/76 - 15s - loss: 0.0018 - 15s/epoch - 198ms/step\n",
      "Epoch 30/100\n",
      "76/76 - 20s - loss: 0.0018 - 20s/epoch - 258ms/step\n",
      "Epoch 31/100\n",
      "76/76 - 21s - loss: 0.0017 - 21s/epoch - 272ms/step\n",
      "Epoch 32/100\n",
      "76/76 - 18s - loss: 0.0019 - 18s/epoch - 242ms/step\n",
      "Epoch 33/100\n",
      "76/76 - 20s - loss: 0.0019 - 20s/epoch - 266ms/step\n",
      "Epoch 34/100\n",
      "76/76 - 19s - loss: 0.0021 - 19s/epoch - 255ms/step\n",
      "Epoch 35/100\n",
      "76/76 - 20s - loss: 0.0017 - 20s/epoch - 260ms/step\n",
      "Epoch 36/100\n",
      "76/76 - 20s - loss: 0.0017 - 20s/epoch - 269ms/step\n",
      "Epoch 37/100\n",
      "76/76 - 20s - loss: 0.0017 - 20s/epoch - 267ms/step\n",
      "Epoch 38/100\n",
      "76/76 - 20s - loss: 0.0017 - 20s/epoch - 265ms/step\n",
      "Epoch 39/100\n",
      "76/76 - 19s - loss: 0.0018 - 19s/epoch - 254ms/step\n",
      "Epoch 40/100\n",
      "76/76 - 21s - loss: 0.0017 - 21s/epoch - 282ms/step\n",
      "Epoch 41/100\n",
      "76/76 - 24s - loss: 0.0020 - 24s/epoch - 316ms/step\n",
      "Epoch 42/100\n",
      "76/76 - 23s - loss: 0.0018 - 23s/epoch - 301ms/step\n",
      "Epoch 43/100\n",
      "76/76 - 24s - loss: 0.0016 - 24s/epoch - 322ms/step\n",
      "Epoch 44/100\n",
      "76/76 - 23s - loss: 0.0018 - 23s/epoch - 299ms/step\n",
      "Epoch 45/100\n",
      "76/76 - 26s - loss: 0.0017 - 26s/epoch - 336ms/step\n",
      "Epoch 46/100\n",
      "76/76 - 23s - loss: 0.0020 - 23s/epoch - 299ms/step\n",
      "Epoch 47/100\n",
      "76/76 - 23s - loss: 0.0019 - 23s/epoch - 297ms/step\n",
      "Epoch 48/100\n",
      "76/76 - 16s - loss: 0.0016 - 16s/epoch - 208ms/step\n",
      "Epoch 49/100\n",
      "76/76 - 15s - loss: 0.0016 - 15s/epoch - 196ms/step\n",
      "Epoch 50/100\n",
      "76/76 - 17s - loss: 0.0019 - 17s/epoch - 226ms/step\n",
      "Epoch 51/100\n",
      "76/76 - 19s - loss: 0.0020 - 19s/epoch - 248ms/step\n",
      "Epoch 52/100\n",
      "76/76 - 19s - loss: 0.0017 - 19s/epoch - 248ms/step\n",
      "Epoch 53/100\n",
      "76/76 - 19s - loss: 0.0017 - 19s/epoch - 247ms/step\n",
      "Epoch 54/100\n",
      "76/76 - 19s - loss: 0.0018 - 19s/epoch - 248ms/step\n",
      "Epoch 55/100\n",
      "76/76 - 19s - loss: 0.0017 - 19s/epoch - 248ms/step\n",
      "Epoch 56/100\n",
      "76/76 - 19s - loss: 0.0019 - 19s/epoch - 253ms/step\n",
      "Epoch 57/100\n",
      "76/76 - 18s - loss: 0.0017 - 18s/epoch - 241ms/step\n",
      "Epoch 58/100\n",
      "76/76 - 20s - loss: 0.0016 - 20s/epoch - 259ms/step\n",
      "Epoch 59/100\n",
      "76/76 - 20s - loss: 0.0019 - 20s/epoch - 262ms/step\n",
      "Epoch 60/100\n",
      "76/76 - 20s - loss: 0.0017 - 20s/epoch - 259ms/step\n",
      "Epoch 61/100\n",
      "76/76 - 20s - loss: 0.0016 - 20s/epoch - 260ms/step\n",
      "Epoch 62/100\n",
      "76/76 - 20s - loss: 0.0016 - 20s/epoch - 265ms/step\n",
      "Epoch 63/100\n",
      "76/76 - 20s - loss: 0.0016 - 20s/epoch - 268ms/step\n",
      "Epoch 64/100\n",
      "76/76 - 21s - loss: 0.0017 - 21s/epoch - 275ms/step\n",
      "Epoch 65/100\n",
      "76/76 - 20s - loss: 0.0016 - 20s/epoch - 270ms/step\n",
      "Epoch 66/100\n",
      "76/76 - 19s - loss: 0.0018 - 19s/epoch - 251ms/step\n",
      "Epoch 67/100\n",
      "76/76 - 22s - loss: 0.0017 - 22s/epoch - 288ms/step\n",
      "Epoch 68/100\n",
      "76/76 - 21s - loss: 0.0017 - 21s/epoch - 277ms/step\n",
      "Epoch 69/100\n",
      "76/76 - 21s - loss: 0.0018 - 21s/epoch - 281ms/step\n",
      "Epoch 70/100\n",
      "76/76 - 23s - loss: 0.0015 - 23s/epoch - 308ms/step\n",
      "Epoch 71/100\n",
      "76/76 - 24s - loss: 0.0017 - 24s/epoch - 317ms/step\n",
      "Epoch 72/100\n",
      "76/76 - 26s - loss: 0.0018 - 26s/epoch - 339ms/step\n",
      "Epoch 73/100\n",
      "76/76 - 24s - loss: 0.0015 - 24s/epoch - 316ms/step\n",
      "Epoch 74/100\n",
      "76/76 - 22s - loss: 0.0018 - 22s/epoch - 284ms/step\n",
      "Epoch 75/100\n",
      "76/76 - 21s - loss: 0.0017 - 21s/epoch - 273ms/step\n",
      "Epoch 76/100\n",
      "76/76 - 20s - loss: 0.0018 - 20s/epoch - 266ms/step\n",
      "Epoch 77/100\n",
      "76/76 - 20s - loss: 0.0014 - 20s/epoch - 266ms/step\n",
      "Epoch 78/100\n",
      "76/76 - 19s - loss: 0.0015 - 19s/epoch - 253ms/step\n",
      "Epoch 79/100\n",
      "76/76 - 22s - loss: 0.0015 - 22s/epoch - 285ms/step\n",
      "Epoch 80/100\n",
      "76/76 - 25s - loss: 0.0016 - 25s/epoch - 323ms/step\n",
      "Epoch 81/100\n",
      "76/76 - 24s - loss: 0.0015 - 24s/epoch - 315ms/step\n",
      "Epoch 82/100\n",
      "76/76 - 19s - loss: 0.0015 - 19s/epoch - 256ms/step\n",
      "Epoch 83/100\n",
      "76/76 - 22s - loss: 0.0017 - 22s/epoch - 286ms/step\n",
      "Epoch 84/100\n",
      "76/76 - 20s - loss: 0.0016 - 20s/epoch - 258ms/step\n",
      "Epoch 85/100\n",
      "76/76 - 23s - loss: 0.0020 - 23s/epoch - 305ms/step\n",
      "Epoch 86/100\n",
      "76/76 - 25s - loss: 0.0017 - 25s/epoch - 326ms/step\n",
      "Epoch 87/100\n"
     ]
    }
   ],
   "source": [
    "model.fit(x,y,epochs=100, batch_size=32, verbose=2)"
   ]
  },
  {
   "cell_type": "code",
   "execution_count": null,
   "id": "e3d9495d",
   "metadata": {},
   "outputs": [],
   "source": []
  }
 ],
 "metadata": {
  "kernelspec": {
   "display_name": "Python 3 (ipykernel)",
   "language": "python",
   "name": "python3"
  },
  "language_info": {
   "codemirror_mode": {
    "name": "ipython",
    "version": 3
   },
   "file_extension": ".py",
   "mimetype": "text/x-python",
   "name": "python",
   "nbconvert_exporter": "python",
   "pygments_lexer": "ipython3",
   "version": "3.9.18"
  }
 },
 "nbformat": 4,
 "nbformat_minor": 5
}
